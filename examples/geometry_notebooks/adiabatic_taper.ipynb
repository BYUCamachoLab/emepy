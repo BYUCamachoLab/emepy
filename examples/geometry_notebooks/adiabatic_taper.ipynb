{
 "cells": [
  {
   "cell_type": "code",
   "execution_count": 1,
   "metadata": {},
   "outputs": [
    {
     "name": "stdout",
     "output_type": "stream",
     "text": [
      "current state: start\n"
     ]
    },
    {
     "name": "stderr",
     "output_type": "stream",
     "text": [
      "100%|██████████| 32/32 [00:00<00:00, 1262.73it/s]\n"
     ]
    },
    {
     "data": {
      "image/png": "[encoded data removed]",
      "text/plain": [
       "<Figure size 432x288 with 1 Axes>"
      ]
     },
     "metadata": {
      "needs_background": "light"
     },
     "output_type": "display_data"
    }
   ],
   "source": [
    "from emepy.eme import Layer, EME\n",
    "from emepy.fd import MSEMpy\n",
    "import numpy as np\n",
    "from matplotlib import pyplot as plt\n",
    "\n",
    "# Design parameters\n",
    "taper_length = 7  # The length of the taper\n",
    "taper_density = 30 # Number of taper segments\n",
    "alpha = 3 # Strength of function (either tanh or bezier) -> 0 = linear\n",
    "type_tanh = True # \"bezier\"\n",
    "\n",
    "def taper_func(start, end, num_points):\n",
    "\n",
    "    # Linear Curve\n",
    "    x = np.linspace(width1, width2, taper_density)\n",
    "\n",
    "    # Tanh Curve\n",
    "    xt = x - np.min(x)\n",
    "    xta = xt / np.max(xt)\n",
    "    tanh = np.tanh(alpha*(xta-0.5))+1\n",
    "    tanh -= np.min(tanh)\n",
    "    tanh *= np.max(xt) / np.max(tanh)\n",
    "    tanh += np.min(x)\n",
    "    return tanh\n",
    "\n",
    "# Geometric parameters\n",
    "width1 = 0.5  # Width of left waveguide\n",
    "thickness1 = 0.22  # Thickness of left waveguide\n",
    "width2 = 7  # Width of right waveguide\n",
    "thickness2 = 0.22  # Thickness of right waveguide\n",
    "wavelength = 1.55  # Wavelength of light (m)\n",
    "length = 3  # Length of the waveguides\n",
    "num_modes_first_half = 10 # Number of modes to solve for\n",
    "num_modes_second_half = 20 # Number of modes to solve for\n",
    "mesh=70 # Number of mesh points in each xy dimension\n",
    "\n",
    "eme = EME()  # Choose either a normal eme or a periodic eme (PeriodicEME())\n",
    "\n",
    "# first layer is a straight waveguide\n",
    "mode1 = MSEMpy(\n",
    "    wavelength,\n",
    "    width1,\n",
    "    thickness1,\n",
    "    num_modes=3,\n",
    "    cladding_width=10,\n",
    "    cladding_thickness=10,\n",
    "    mesh=mesh,\n",
    "    subpixel=True\n",
    ")\n",
    "straight1 = Layer(mode1, 3, wavelength, length)\n",
    "eme.add_layer(straight1)\n",
    "\n",
    "# create the discrete taper with a fine enough taper density to approximate a continuous linear taper\n",
    "widths = taper_func(width1, width2, taper_density)\n",
    "thicknesses = np.linspace(thickness1, thickness2, taper_density)\n",
    "taper_length_per = taper_length / taper_density\n",
    "\n",
    "# add the taper layers\n",
    "for i in range(taper_density):\n",
    "    num_modes = num_modes_first_half if i < taper_density / 2.0 else num_modes_second_half\n",
    "    solver = MSEMpy(wavelength, widths[i], thicknesses[i], num_modes=num_modes, mesh=mesh,cladding_width=10,cladding_thickness=10,subpixel=True)\n",
    "    taper_layer = Layer(solver, num_modes, wavelength, taper_length_per)\n",
    "    eme.add_layer(taper_layer)\n",
    "\n",
    "# last layer is a straight waveguide of smaller geometry\n",
    "mode2 = MSEMpy(wavelength, width2, thickness2, num_modes=num_modes_second_half, mesh=mesh,cladding_width=10,cladding_thickness=10,subpixel=True)\n",
    "straight2 = Layer(mode2, num_modes_second_half, wavelength, length)\n",
    "eme.add_layer(straight2)\n",
    "\n",
    "monitor = eme.add_monitor(axes=\"xz\")\n",
    "\n",
    "eme.draw() \n",
    "plt.show()"
   ]
  },
  {
   "cell_type": "code",
   "execution_count": null,
   "metadata": {},
   "outputs": [],
   "source": []
  }
 ],
 "metadata": {
  "interpreter": {
   "hash": "f7a3b17dc27950022b3a097db529a6e9000db08ac14a3825be3b4e322625075e"
  },
  "kernelspec": {
   "display_name": "Python 3.7.10 ('base')",
   "language": "python",
   "name": "python3"
  },
  "language_info": {
   "codemirror_mode": {
    "name": "ipython",
    "version": 3
   },
   "file_extension": ".py",
   "mimetype": "text/x-python",
   "name": "python",
   "nbconvert_exporter": "python",
   "pygments_lexer": "ipython3",
   "version": "3.7.10"
  },
  "orig_nbformat": 4
 },
 "nbformat": 4,
 "nbformat_minor": 2
}

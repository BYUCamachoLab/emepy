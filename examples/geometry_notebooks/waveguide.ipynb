{
 "cells": [
  {
   "cell_type": "markdown",
   "metadata": {},
   "source": [
    "# Basic Waveguide EME\n",
    "\n",
    "This tutorial utilizes EMEPy's new feature, the profile monitor, to visualize the field profile in a single mode waveguide as it propagates.\n",
    "\n",
    "Start by importing the necessary classes and defining the waveguide parameters."
   ]
  },
  {
   "cell_type": "code",
   "execution_count": null,
   "metadata": {},
   "outputs": [],
   "source": [
    "from emepy import EME, Layer, Monitor\n",
    "from emepy.ann import ANN, MSNeuralNetwork\n",
    "import numpy as np\n",
    "from matplotlib import pyplot as plt\n",
    "\n",
    "wavelength = 1.55\n",
    "width = 0.5\n",
    "thickness = 0.22\n",
    "num_modes = 1\n",
    "length = wavelength"
   ]
  },
  {
   "cell_type": "markdown",
   "metadata": {},
   "source": [
    "### Setup waveguide and EME"
   ]
  },
  {
   "cell_type": "code",
   "execution_count": null,
   "metadata": {},
   "outputs": [],
   "source": [
    "eme = EME()\n",
    "ann = ANN()\n",
    "\n",
    "mode_solvers = [\n",
    "    MSNeuralNetwork(\n",
    "        ann,\n",
    "        wavelength,\n",
    "        width,\n",
    "        thickness,\n",
    "    )  for i in range(5)\n",
    "]\n",
    "\n",
    "for i in range(5):\n",
    "    eme.add_layer(Layer(mode_solvers[i], num_modes, wavelength, length))"
   ]
  },
  {
   "cell_type": "markdown",
   "metadata": {},
   "source": [
    "### Setup monitor and Propagate\n",
    "\n",
    "We setup two monitors: one in the xz plane and one in the yz plane. Both will store all the field and index profiles for us."
   ]
  },
  {
   "cell_type": "code",
   "execution_count": null,
   "metadata": {},
   "outputs": [],
   "source": [
    "monitor_xz = eme.add_monitor(axes=\"xz\")\n",
    "monitor_yz = eme.add_monitor(axes=\"yz\")\n",
    "eme.propagate() \n",
    "\n",
    "plt.figure()\n",
    "eme.activated_layers[0][0].modes[0].plot()\n",
    "plt.show()"
   ]
  },
  {
   "cell_type": "markdown",
   "metadata": {},
   "source": [
    "### Propagate and Visualize"
   ]
  },
  {
   "cell_type": "code",
   "execution_count": null,
   "metadata": {},
   "outputs": [],
   "source": [
    "components = ['n','E','H','Ex','Ey','Ez','Hx','Hy','Hz']\n",
    "fig, axs = plt.subplots(3,3)\n",
    "for row in range(3):\n",
    "    for col in range(3):\n",
    "        monitor_xz.visualize(axs[row,col], components[row*3+col])\n",
    "fig.tight_layout()\n",
    "plt.show()\n",
    "\n",
    "components = ['n','E','H','Ex','Ey','Ez','Hx','Hy','Hz']\n",
    "fig, axs = plt.subplots(3,3)\n",
    "for row in range(3):\n",
    "    for col in range(3):\n",
    "        monitor_yz.visualize(axs[row,col], components[row*3+col])\n",
    "fig.tight_layout()\n",
    "plt.show()"
   ]
  },
  {
   "cell_type": "code",
   "execution_count": null,
   "metadata": {},
   "outputs": [],
   "source": []
  }
 ],
 "metadata": {
  "interpreter": {
   "hash": "f7a3b17dc27950022b3a097db529a6e9000db08ac14a3825be3b4e322625075e"
  },
  "kernelspec": {
   "display_name": "Python 3.7.10 ('base')",
   "language": "python",
   "name": "python3"
  },
  "language_info": {
   "codemirror_mode": {
    "name": "ipython",
    "version": 3
   },
   "file_extension": ".py",
   "mimetype": "text/x-python",
   "name": "python",
   "nbconvert_exporter": "python",
   "pygments_lexer": "ipython3",
   "version": "3.7.10"
  }
 },
 "nbformat": 4,
 "nbformat_minor": 4
}

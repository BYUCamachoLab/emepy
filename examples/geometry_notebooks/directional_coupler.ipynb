{
 "cells": [
  {
   "cell_type": "markdown",
   "metadata": {},
   "source": [
    "# Directional Coupler EMEPy Tutorial\n",
    "\n",
    "This tutorial utilizes EMEPy's new feature, the profile monitor, to estimate the coupling length of a standard silicon directional coupler. "
   ]
  },
  {
   "cell_type": "code",
   "execution_count": 1,
   "metadata": {},
   "outputs": [],
   "source": [
    "from emepy import Layer, EME, Mode, MSEMpy\n",
    "import numpy as np\n",
    "from matplotlib import pyplot as plt\n",
    "from emepy.tools import Si, SiO2\n",
    "\n",
    "# Geometric parameters\n",
    "wavelength = 1.55 # Wavelength\n",
    "width = 0.4  # Width of left waveguide\n",
    "gap = 0.2 # Gap between waveguides\n",
    "thickness = 0.22  # Thickness of left waveguide\n",
    "num_modes=2 # Number of modes\n",
    "mesh=100 # Number of mesh points\n",
    "core_index=Si(wavelength*1e6) # Silicon core\n",
    "cladding_index=SiO2(wavelength*1e6) # Oxide cladding\n",
    "x = np.linspace(-2,2,mesh)\n",
    "n = np.ones(mesh) * cladding_index"
   ]
  },
  {
   "cell_type": "markdown",
   "metadata": {},
   "source": [
    "### Define structure and verify shape"
   ]
  },
  {
   "cell_type": "code",
   "execution_count": 2,
   "metadata": {},
   "outputs": [
    {
     "name": "stdout",
     "output_type": "stream",
     "text": [
      "current state: start\n"
     ]
    }
   ],
   "source": [
    "# Create simulation \n",
    "eme = EME()\n",
    "\n",
    "# Create left waveguide\n",
    "single_left_edge = -gap/2-width\n",
    "single_right_edge = -gap/2\n",
    "single_n = np.where((single_left_edge <= x) * (x <= single_right_edge), core_index, n)\n",
    "\n",
    "single_channel = MSEMpy(\n",
    "    wavelength,\n",
    "    width=None,\n",
    "    thickness=thickness,\n",
    "    cladding_index=cladding_index,\n",
    "    num_modes=num_modes,\n",
    "    mesh=mesh,\n",
    "    x=x,\n",
    "    y=x,\n",
    "    n=single_n\n",
    ")\n",
    "\n",
    "# Create left waveguide\n",
    "left_edge = -gap/2-width\n",
    "right_edge = -gap/2\n",
    "n = np.where((left_edge <= x) * (x <= right_edge), core_index, n)\n",
    "\n",
    "# Create right waveguide\n",
    "left_edge = gap/2\n",
    "right_edge = gap/2+width\n",
    "n = np.where((left_edge <= x) * (x <= right_edge), core_index, n)\n",
    "\n",
    "two_channel = MSEMpy(\n",
    "    wavelength,\n",
    "    width=None,\n",
    "    thickness=thickness,\n",
    "    cladding_index=cladding_index,\n",
    "    num_modes=num_modes,\n",
    "    mesh=mesh,\n",
    "    x=x,\n",
    "    y=x,\n",
    "    n=n\n",
    ")\n",
    "\n",
    "eme.add_layer(Layer(single_channel, num_modes, wavelength, 0.7)) \n",
    "eme.add_layer(Layer(two_channel, num_modes, wavelength, 25))"
   ]
  },
  {
   "cell_type": "markdown",
   "metadata": {},
   "source": [
    "### Add a monitor"
   ]
  },
  {
   "cell_type": "code",
   "execution_count": 3,
   "metadata": {},
   "outputs": [],
   "source": [
    "monitor = eme.add_monitor(axes=\"xz\")"
   ]
  },
  {
   "cell_type": "markdown",
   "metadata": {},
   "source": [
    "### Propagate"
   ]
  },
  {
   "cell_type": "code",
   "execution_count": 4,
   "metadata": {},
   "outputs": [
    {
     "name": "stdout",
     "output_type": "stream",
     "text": [
      "current state: mode_solving\n"
     ]
    },
    {
     "name": "stderr",
     "output_type": "stream",
     "text": [
      "100%|██████████| 2/2 [00:00<00:00, 4576.44it/s]\n"
     ]
    },
    {
     "name": "stdout",
     "output_type": "stream",
     "text": [
      "current state: finished_modes\n",
      "current state: layer_propagating\n"
     ]
    },
    {
     "name": "stderr",
     "output_type": "stream",
     "text": [
      "1it [00:00, 2709.50it/s]\n"
     ]
    },
    {
     "name": "stdout",
     "output_type": "stream",
     "text": [
      "current state: finished_layer\n",
      "current state: network_building\n",
      "current state: finished_network\n",
      "current state: field_propagating\n"
     ]
    },
    {
     "name": "stderr",
     "output_type": "stream",
     "text": [
      "100%|██████████| 1/1 [00:00<00:00, 115.05it/s]\n"
     ]
    },
    {
     "name": "stdout",
     "output_type": "stream",
     "text": [
      "current state: finished\n"
     ]
    },
    {
     "data": {
      "text/plain": [
       "<simphony.models.Subcircuit at 0x7fa5071fd910>"
      ]
     },
     "execution_count": 4,
     "metadata": {},
     "output_type": "execute_result"
    }
   ],
   "source": [
    "eme.propagate()  # propagate at given wavelength"
   ]
  },
  {
   "cell_type": "markdown",
   "metadata": {},
   "source": [
    "### Visualize Monitors"
   ]
  },
  {
   "cell_type": "code",
   "execution_count": 5,
   "metadata": {},
   "outputs": [
    {
     "data": {
      "image/png": "[encoded data removed]",
      "text/plain": [
       "<Figure size 432x288 with 2 Axes>"
      ]
     },
     "metadata": {
      "needs_background": "light"
     },
     "output_type": "display_data"
    },
    {
     "data": {
      "image/png": "[encoded data removed]",
      "text/plain": [
       "<Figure size 432x288 with 2 Axes>"
      ]
     },
     "metadata": {
      "needs_background": "light"
     },
     "output_type": "display_data"
    }
   ],
   "source": [
    "plt.figure()\n",
    "monitor.visualize(component=\"n\")\n",
    "plt.colorbar()\n",
    "plt.show()\n",
    "\n",
    "plt.figure()\n",
    "monitor.visualize(component=\"Hy\")\n",
    "plt.colorbar()\n",
    "plt.show()"
   ]
  },
  {
   "cell_type": "code",
   "execution_count": null,
   "metadata": {},
   "outputs": [],
   "source": []
  }
 ],
 "metadata": {
  "interpreter": {
   "hash": "f7a3b17dc27950022b3a097db529a6e9000db08ac14a3825be3b4e322625075e"
  },
  "kernelspec": {
   "display_name": "Python 3.7.10 ('base')",
   "language": "python",
   "name": "python3"
  },
  "language_info": {
   "codemirror_mode": {
    "name": "ipython",
    "version": 3
   },
   "file_extension": ".py",
   "mimetype": "text/x-python",
   "name": "python",
   "nbconvert_exporter": "python",
   "pygments_lexer": "ipython3",
   "version": "3.7.10"
  }
 },
 "nbformat": 4,
 "nbformat_minor": 4
}

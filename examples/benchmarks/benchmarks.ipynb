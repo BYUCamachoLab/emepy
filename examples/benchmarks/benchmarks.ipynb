{
 "cells": [
  {
   "cell_type": "markdown",
   "metadata": {},
   "source": [
    "# Benchmarks performed for official paper"
   ]
  },
  {
   "cell_type": "markdown",
   "metadata": {},
   "source": [
    "### Bragg grating"
   ]
  },
  {
   "cell_type": "code",
   "execution_count": null,
   "metadata": {},
   "outputs": [],
   "source": [
    "from matplotlib import pyplot as plt\n",
    "import numpy as np\n",
    "\n",
    "from bragg.bragg_ann import bragg_ann\n",
    "from bragg.bragg_lumapi import bragg_lumapi\n",
    "from bragg.bragg_empy import bragg_empy\n",
    "from bragg.lumerical_eme import lumerical_eme\n",
    "from bragg.lumerical_fdtd import lumerical_fdtd\n",
    "\n",
    "class Args(object):\n",
    "\n",
    "    num_periods = 50 #Number of Periods for Bragg Grating (default: 50)\n",
    "    length = 0.159 #Length of each segment of BG, Period = Length * 2 (microns) (default: 0.159)\n",
    "    num_wavelengths = 30 #Number of wavelengths to sweep (default: 30)\n",
    "    wl_lower = 1.5 #Lower wavelength bound (microns) (default: 1.5)\n",
    "    wl_upper = 1.6 #Upper wavelength bound (microns) (default: 1.6)\n",
    "    num_modes = 1 #Number of Modes (default: 1)\n",
    "    mesh = 128 #Number of mesh points (default: 128)\n",
    "    width1 = 0.46 #Width of first core block (microns) (default: 0.46)\n",
    "    width2 = 0.54 #Width of second core block  (microns) (default: 0.54)\n",
    "    thickness = 0.22 #Thickness of the core (microns) (default: 0.22)\n",
    "\n",
    "args = Args()\n",
    "\n",
    "t_ann = bragg_ann(args)\n",
    "t_lumerical_eme = lumerical_eme(args) # Retry tomorrow with proper licensing issues gone and then make sure to fix the normalization of modes and mode overlap formulation for the other solvers\n",
    "t_lumerical = bragg_lumapi(args)\n",
    "# t_empy = bragg_empy(args)\n",
    "t_lumerical_fdtd = lumerical_fdtd(args)\n",
    "\n",
    "plt.figure()\n",
    "plt.plot(np.linspace(1.5,1.6,args.num_wavelengths),t_ann, label=\"Neural Networks\")\n",
    "plt.plot(np.linspace(1.5,1.6,args.num_wavelengths),t_lumerical, label=\"Lumerical MODE FDE\")\n",
    "# plt.plot(np.linspace(1.5,1.6,args.num_wavelengths),t_empy, label=\"Electromagnetic Python\")\n",
    "plt.plot(np.linspace(1.5,1.6,args.num_wavelengths),t_lumerical_eme, label=\"Lumerical EME\")\n",
    "plt.plot(np.linspace(1.5,1.6,args.num_wavelengths),t_lumerical_fdtd, label=\"Lumerical FDTD\")\n",
    "plt.xlabel('Lambda (um)')\n",
    "plt.ylabel('Trasmission Power')\n",
    "plt.legend()\n",
    "plt.grid()\n",
    "plt.show()"
   ]
  },
  {
   "cell_type": "markdown",
   "metadata": {},
   "source": [
    "### Taper"
   ]
  },
  {
   "cell_type": "code",
   "execution_count": null,
   "metadata": {},
   "outputs": [],
   "source": [
    "import numpy as np\n",
    "from matplotlib import pyplot as plt\n",
    "\n",
    "from taper.taper_ann import taper_ann\n",
    "from taper.taper_empy import taper_empy\n",
    "from taper.taper_lumerical import taper_lumerical\n",
    "\n",
    "start = 5\n",
    "stop = 20\n",
    "\n",
    "taper_lumerical_dict = taper_lumerical(False,start,stop)\n",
    "taper_ann_dict = taper_ann(False,start,stop)\n",
    "# taper_empy_dict = taper_empy(False,start,stop)\n",
    "\n",
    "plt.figure()\n",
    "plt.subplot(1,2,1)\n",
    "plt.plot(taper_ann_dict[\"density\"],np.abs(taper_ann_dict[\"time\"]), label=\"ANN\")\n",
    "plt.plot(taper_lumerical_dict[\"density\"],np.abs(taper_lumerical_dict[\"time\"]), label=\"Lumerical FD\")\n",
    "# plt.plot(taper_empy_dict[\"density\"],np.log10(taper_empy_dict[\"time\"]), label=\"Electromagnetic Python\")\n",
    "plt.xlabel(\"Taper Density\")\n",
    "plt.ylabel(\"Time (s)\")\n",
    "plt.legend()\n",
    "plt.grid()\n",
    "\n",
    "plt.subplot(1,2,2)\n",
    "plt.plot(taper_ann_dict[\"density\"],np.abs(np.array(taper_ann_dict[\"s_params\"])[:,0,0,1])**2, label=\"ANN\")\n",
    "plt.plot(taper_lumerical_dict[\"density\"],np.abs(np.array(taper_lumerical_dict[\"s_params\"])[:,0,0,1])**2, label=\"Lumerical FD\")\n",
    "# plt.plot(taper_empy_dict[\"density\"],np.abs(np.array(taper_empy_dict[\"s_params\"])[:,0,0,1])**2, label=\"Electromagnetic Python\")\n",
    "plt.xlabel(\"Taper Density\")\n",
    "plt.ylabel(\"Transmission \")\n",
    "plt.legend()\n",
    "plt.grid()\n",
    "\n",
    "plt.savefig('taper.eps', format='eps')\n",
    "plt.savefig('taperpng.png')\n",
    "plt.show()"
   ]
  }
 ],
 "metadata": {
  "kernelspec": {
   "display_name": "Python 3",
   "language": "python",
   "name": "python3"
  },
  "language_info": {
   "codemirror_mode": {
    "name": "ipython",
    "version": 3
   },
   "file_extension": ".py",
   "mimetype": "text/x-python",
   "name": "python",
   "nbconvert_exporter": "python",
   "pygments_lexer": "ipython3",
   "version": "3.8.5"
  }
 },
 "nbformat": 4,
 "nbformat_minor": 2
}

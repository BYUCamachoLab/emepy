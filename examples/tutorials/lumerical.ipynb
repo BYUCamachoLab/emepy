{
 "cells": [
  {
   "cell_type": "markdown",
   "metadata": {},
   "source": [
    "# EMEPy/Lumerical Compatibility"
   ]
  },
  {
   "cell_type": "code",
   "execution_count": null,
   "metadata": {},
   "outputs": [],
   "source": [
    "# Import the needed libraries and modules\n",
    "from emepy.lumerical import MSLumerical\n",
    "import numpy as np\n",
    "from matplotlib import pyplot as plt\n",
    "\n",
    "\n",
    "########### Finite Difference Solver ##############\n",
    "\n",
    "# Create a modesolver object that represents a waveguide cross section\n",
    "fd_solver = MSLumerical(\n",
    "    1.55e-6,  # Set the wavelength of choice\n",
    "    0.46e-6,  # Define the width of the waveguide\n",
    "    0.22e-6,  # Define the thickness of the waveguide\n",
    "    mesh=128,  # Set the mesh density\n",
    "    num_modes=1,  # Set the number of modes to solve for\n",
    "    eme_modes=False\n",
    ")\n",
    "\n",
    "# Solve for the fundamental Eigenmode\n",
    "fd_solver.solve()\n",
    "fd_mode = fd_solver.get_mode()\n",
    "\n",
    "# Plot the refractive index\n",
    "plt.figure()\n",
    "fd_mode.plot_material()\n",
    "plt.show()\n",
    "\n",
    "# Plot the eigenmode field components\n",
    "plt.figure()\n",
    "fd_mode.plot()\n",
    "plt.show()\n",
    "\n",
    "# Look at the effective index neff\n",
    "print(\"FD Solver Effective index: \", fd_mode.get_neff())\n"
   ]
  }
 ],
 "metadata": {
  "language_info": {
   "name": "plaintext"
  },
  "orig_nbformat": 4
 },
 "nbformat": 4,
 "nbformat_minor": 2
}

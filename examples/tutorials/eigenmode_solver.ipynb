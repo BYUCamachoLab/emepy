{
 "cells": [
  {
   "cell_type": "markdown",
   "metadata": {},
   "source": [
    "# EMEPy Eigenmode Solvers"
   ]
  },
  {
   "cell_type": "code",
   "execution_count": 1,
   "metadata": {},
   "outputs": [
    {
     "ename": "KeyboardInterrupt",
     "evalue": "",
     "output_type": "error",
     "traceback": [
      "\u001b[0;31m---------------------------------------------------------------------------\u001b[0m",
      "\u001b[0;31mKeyboardInterrupt\u001b[0m                         Traceback (most recent call last)",
      "\u001b[0;32m/var/folders/6y/rggx6szd2yd3ngh6pvd3yss80000gn/T/ipykernel_91477/1412190426.py\u001b[0m in \u001b[0;36m<module>\u001b[0;34m\u001b[0m\n\u001b[1;32m     12\u001b[0m \u001b[0;31m# Import the needed libraries and modules\u001b[0m\u001b[0;34m\u001b[0m\u001b[0;34m\u001b[0m\u001b[0;34m\u001b[0m\u001b[0m\n\u001b[1;32m     13\u001b[0m \u001b[0;32mfrom\u001b[0m \u001b[0memepy\u001b[0m\u001b[0;34m.\u001b[0m\u001b[0mfd\u001b[0m \u001b[0;32mimport\u001b[0m \u001b[0mMSEMpy\u001b[0m  \u001b[0;31m# Open source\u001b[0m\u001b[0;34m\u001b[0m\u001b[0;34m\u001b[0m\u001b[0m\n\u001b[0;32m---> 14\u001b[0;31m \u001b[0;32mfrom\u001b[0m \u001b[0memepy\u001b[0m\u001b[0;34m.\u001b[0m\u001b[0mann\u001b[0m \u001b[0;32mimport\u001b[0m \u001b[0mANN\u001b[0m\u001b[0;34m,\u001b[0m \u001b[0mMSNeuralNetwork\u001b[0m\u001b[0;34m\u001b[0m\u001b[0;34m\u001b[0m\u001b[0m\n\u001b[0m\u001b[1;32m     15\u001b[0m \u001b[0;32mimport\u001b[0m \u001b[0mnumpy\u001b[0m \u001b[0;32mas\u001b[0m \u001b[0mnp\u001b[0m\u001b[0;34m\u001b[0m\u001b[0;34m\u001b[0m\u001b[0m\n\u001b[1;32m     16\u001b[0m \u001b[0;32mfrom\u001b[0m \u001b[0mmatplotlib\u001b[0m \u001b[0;32mimport\u001b[0m \u001b[0mpyplot\u001b[0m \u001b[0;32mas\u001b[0m \u001b[0mplt\u001b[0m\u001b[0;34m\u001b[0m\u001b[0;34m\u001b[0m\u001b[0m\n",
      "\u001b[0;32m~/GitHub/emepy/emepy/ann.py\u001b[0m in \u001b[0;36m<module>\u001b[0;34m\u001b[0m\n\u001b[1;32m    382\u001b[0m \u001b[0;32mfrom\u001b[0m \u001b[0memepy\u001b[0m\u001b[0;34m.\u001b[0m\u001b[0mmode\u001b[0m \u001b[0;32mimport\u001b[0m \u001b[0mMode\u001b[0m\u001b[0;34m\u001b[0m\u001b[0;34m\u001b[0m\u001b[0m\n\u001b[1;32m    383\u001b[0m \u001b[0;34m\u001b[0m\u001b[0m\n\u001b[0;32m--> 384\u001b[0;31m \u001b[0;32mimport\u001b[0m \u001b[0mtorch\u001b[0m\u001b[0;34m\u001b[0m\u001b[0;34m\u001b[0m\u001b[0m\n\u001b[0m\u001b[1;32m    385\u001b[0m \u001b[0;32mimport\u001b[0m \u001b[0mtorch\u001b[0m\u001b[0;34m.\u001b[0m\u001b[0mnn\u001b[0m \u001b[0;32mas\u001b[0m \u001b[0mnn\u001b[0m\u001b[0;34m\u001b[0m\u001b[0;34m\u001b[0m\u001b[0m\n\u001b[1;32m    386\u001b[0m \u001b[0;32mimport\u001b[0m \u001b[0mtorch\u001b[0m\u001b[0;34m.\u001b[0m\u001b[0mnn\u001b[0m\u001b[0;34m.\u001b[0m\u001b[0mfunctional\u001b[0m \u001b[0;32mas\u001b[0m \u001b[0mF\u001b[0m\u001b[0;34m\u001b[0m\u001b[0;34m\u001b[0m\u001b[0m\n",
      "\u001b[0;32m~/miniconda3/lib/python3.7/site-packages/torch/__init__.py\u001b[0m in \u001b[0;36m<module>\u001b[0;34m\u001b[0m\n\u001b[1;32m    193\u001b[0m     \u001b[0;31m# See Note [Global dependencies]\u001b[0m\u001b[0;34m\u001b[0m\u001b[0;34m\u001b[0m\u001b[0;34m\u001b[0m\u001b[0m\n\u001b[1;32m    194\u001b[0m     \u001b[0;32mif\u001b[0m \u001b[0mUSE_GLOBAL_DEPS\u001b[0m\u001b[0;34m:\u001b[0m\u001b[0;34m\u001b[0m\u001b[0;34m\u001b[0m\u001b[0m\n\u001b[0;32m--> 195\u001b[0;31m         \u001b[0m_load_global_deps\u001b[0m\u001b[0;34m(\u001b[0m\u001b[0;34m)\u001b[0m\u001b[0;34m\u001b[0m\u001b[0;34m\u001b[0m\u001b[0m\n\u001b[0m\u001b[1;32m    196\u001b[0m     \u001b[0;32mfrom\u001b[0m \u001b[0mtorch\u001b[0m\u001b[0;34m.\u001b[0m\u001b[0m_C\u001b[0m \u001b[0;32mimport\u001b[0m \u001b[0;34m*\u001b[0m\u001b[0;34m\u001b[0m\u001b[0;34m\u001b[0m\u001b[0m\n\u001b[1;32m    197\u001b[0m \u001b[0;34m\u001b[0m\u001b[0m\n",
      "\u001b[0;32m~/miniconda3/lib/python3.7/site-packages/torch/__init__.py\u001b[0m in \u001b[0;36m_load_global_deps\u001b[0;34m()\u001b[0m\n\u001b[1;32m    146\u001b[0m     \u001b[0mlib_path\u001b[0m \u001b[0;34m=\u001b[0m \u001b[0mos\u001b[0m\u001b[0;34m.\u001b[0m\u001b[0mpath\u001b[0m\u001b[0;34m.\u001b[0m\u001b[0mjoin\u001b[0m\u001b[0;34m(\u001b[0m\u001b[0mos\u001b[0m\u001b[0;34m.\u001b[0m\u001b[0mpath\u001b[0m\u001b[0;34m.\u001b[0m\u001b[0mdirname\u001b[0m\u001b[0;34m(\u001b[0m\u001b[0mhere\u001b[0m\u001b[0;34m)\u001b[0m\u001b[0;34m,\u001b[0m \u001b[0;34m'lib'\u001b[0m\u001b[0;34m,\u001b[0m \u001b[0mlib_name\u001b[0m\u001b[0;34m)\u001b[0m\u001b[0;34m\u001b[0m\u001b[0;34m\u001b[0m\u001b[0m\n\u001b[1;32m    147\u001b[0m \u001b[0;34m\u001b[0m\u001b[0m\n\u001b[0;32m--> 148\u001b[0;31m     \u001b[0mctypes\u001b[0m\u001b[0;34m.\u001b[0m\u001b[0mCDLL\u001b[0m\u001b[0;34m(\u001b[0m\u001b[0mlib_path\u001b[0m\u001b[0;34m,\u001b[0m \u001b[0mmode\u001b[0m\u001b[0;34m=\u001b[0m\u001b[0mctypes\u001b[0m\u001b[0;34m.\u001b[0m\u001b[0mRTLD_GLOBAL\u001b[0m\u001b[0;34m)\u001b[0m\u001b[0;34m\u001b[0m\u001b[0;34m\u001b[0m\u001b[0m\n\u001b[0m\u001b[1;32m    149\u001b[0m \u001b[0;34m\u001b[0m\u001b[0m\n\u001b[1;32m    150\u001b[0m \u001b[0;34m\u001b[0m\u001b[0m\n",
      "\u001b[0;32m~/miniconda3/lib/python3.7/ctypes/__init__.py\u001b[0m in \u001b[0;36m__init__\u001b[0;34m(self, name, mode, handle, use_errno, use_last_error)\u001b[0m\n\u001b[1;32m    362\u001b[0m \u001b[0;34m\u001b[0m\u001b[0m\n\u001b[1;32m    363\u001b[0m         \u001b[0;32mif\u001b[0m \u001b[0mhandle\u001b[0m \u001b[0;32mis\u001b[0m \u001b[0;32mNone\u001b[0m\u001b[0;34m:\u001b[0m\u001b[0;34m\u001b[0m\u001b[0;34m\u001b[0m\u001b[0m\n\u001b[0;32m--> 364\u001b[0;31m             \u001b[0mself\u001b[0m\u001b[0;34m.\u001b[0m\u001b[0m_handle\u001b[0m \u001b[0;34m=\u001b[0m \u001b[0m_dlopen\u001b[0m\u001b[0;34m(\u001b[0m\u001b[0mself\u001b[0m\u001b[0;34m.\u001b[0m\u001b[0m_name\u001b[0m\u001b[0;34m,\u001b[0m \u001b[0mmode\u001b[0m\u001b[0;34m)\u001b[0m\u001b[0;34m\u001b[0m\u001b[0;34m\u001b[0m\u001b[0m\n\u001b[0m\u001b[1;32m    365\u001b[0m         \u001b[0;32melse\u001b[0m\u001b[0;34m:\u001b[0m\u001b[0;34m\u001b[0m\u001b[0;34m\u001b[0m\u001b[0m\n\u001b[1;32m    366\u001b[0m             \u001b[0mself\u001b[0m\u001b[0;34m.\u001b[0m\u001b[0m_handle\u001b[0m \u001b[0;34m=\u001b[0m \u001b[0mhandle\u001b[0m\u001b[0;34m\u001b[0m\u001b[0;34m\u001b[0m\u001b[0m\n",
      "\u001b[0;31mKeyboardInterrupt\u001b[0m: "
     ]
    }
   ],
   "source": [
    "\"\"\"\n",
    "    This script simulates eigenmodes using both the Electromagnetic Python Eigenmode Solver (EMpy) and the EMEPy neural networks.\n",
    "\n",
    "    Note if an error occurs in EMpy's backend (Electromagnetic Python) Do one of the following:\n",
    "        1) Reinstall electromagnetic python (EMpy) from GitHub source and add to path using \"pip install -e .\" in the EMpy directory\n",
    "        2) Enter EMpy/modesolvers/FD.py and change line 1369 from \n",
    "            \"    nlayers *= numpy.ones(4)\"                  to\n",
    "            \"    nlayers *= numpy.ones(4, dtype=int)\"\n",
    "\n",
    "\"\"\"\n",
    "\n",
    "# Import the needed libraries and modules\n",
    "from emepy.fd import MSEMpy  # Open source\n",
    "from emepy.ann import ANN, MSNeuralNetwork\n",
    "import numpy as np\n",
    "from matplotlib import pyplot as plt\n",
    "\n",
    "\n",
    "########### Finite Difference Solver ##############\n",
    "\n",
    "# Create a modesolver object that represents a waveguide cross section\n",
    "fd_solver = MSEMpy(\n",
    "    1.55e-6,  # Set the wavelength of choice\n",
    "    0.46e-6,  # Define the width of the waveguide\n",
    "    0.22e-6,  # Define the thickness of the waveguide\n",
    "    mesh=128,  # Set the mesh density\n",
    "    num_modes=1,  # Set the number of modes to solve for\n",
    "    cladding_width=2.5e-6,  # Define the cladding width (default is same as ANN)\n",
    "    cladding_thickness=2.5e-6,  # Define the cladding thickness (default is same as ANN)\n",
    "    core_index=None,  # Define the core refractive index (leave None (default) for Silicon)\n",
    "    cladding_index=None,  # Define the cladding refractive index (leave None (default) for Silicon Dioxide)\n",
    ")\n",
    "\n",
    "# Solve for the fundamental Eigenmode\n",
    "print(\"Now solving for the FD eigenmode...\")\n",
    "fd_solver.solve()\n",
    "fd_mode = fd_solver.get_mode()\n",
    "\n",
    "# Plot the refractive index\n",
    "print(\"Now plotting the index of refraction profile for the FD solver\")\n",
    "plt.figure()\n",
    "fd_mode.plot_material()\n",
    "plt.show()\n",
    "\n",
    "# Plot the eigenmode field components\n",
    "print(\"Now plotting the field profile for the FD solver\")\n",
    "plt.figure()\n",
    "fd_mode.plot()\n",
    "plt.show()\n",
    "\n",
    "# Look at the effective index neff\n",
    "print(\"FD Solver Effective index: \", fd_mode.get_neff())\n",
    "\n",
    "########### ANN Solver ##############\n",
    "\n",
    "# Initialize the neural networks\n",
    "# This step takes a little while to perform but only needs to happen once and then all modesolvers can use it\n",
    "print(\"Now setting up the ANN...\")\n",
    "ann = ANN()\n",
    "\n",
    "# Create a modesolver object that represents a waveguide cross section\n",
    "ann_solver = MSNeuralNetwork(\n",
    "    ann,  # Our initialized neural network modesolver\n",
    "    1.55e-6,  # Set the wavelength of choice\n",
    "    0.46e-6,  # Define the width of the waveguide\n",
    "    0.22e-6,  # Define the thickness of the waveguide\n",
    ")\n",
    "\n",
    "# Solve for the fundamental Eigenmode\n",
    "print(\"Now solving for the ANN eigenmode...\")\n",
    "ann_solver.solve()\n",
    "ann_mode = ann_solver.get_mode()\n",
    "\n",
    "# Plot the refractive index\n",
    "print(\"Now plotting the index of refraction profile for the ANN solver\")\n",
    "plt.figure()\n",
    "ann_mode.plot_material()\n",
    "plt.show()\n",
    "\n",
    "# Plot the eigenmode field components\n",
    "print(\"Now plotting the field profile for the ANN solver\")\n",
    "plt.figure()\n",
    "ann_mode.plot()\n",
    "plt.show()\n",
    "\n",
    "# Look at the effective index neff\n",
    "print(\"ANN Solver Effective index: \", ann_mode.get_neff())\n"
   ]
  },
  {
   "cell_type": "code",
   "execution_count": null,
   "metadata": {},
   "outputs": [],
   "source": []
  }
 ],
 "metadata": {
  "interpreter": {
   "hash": "f7a3b17dc27950022b3a097db529a6e9000db08ac14a3825be3b4e322625075e"
  },
  "kernelspec": {
   "display_name": "Python 3 (ipykernel)",
   "language": "python",
   "name": "python3"
  },
  "language_info": {
   "codemirror_mode": {
    "name": "ipython",
    "version": 3
   },
   "file_extension": ".py",
   "mimetype": "text/x-python",
   "name": "python",
   "nbconvert_exporter": "python",
   "pygments_lexer": "ipython3",
   "version": "3.7.10"
  }
 },
 "nbformat": 4,
 "nbformat_minor": 4
}

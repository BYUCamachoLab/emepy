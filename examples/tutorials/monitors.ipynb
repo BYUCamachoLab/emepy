{
 "cells": [
  {
   "cell_type": "markdown",
   "metadata": {},
   "source": [
    "# EMEPy Monitors\n",
    "\n",
    "This notebook demonstrates how to use monitors in EMEPy to visualize field propagation. "
   ]
  },
  {
   "cell_type": "code",
   "execution_count": 1,
   "metadata": {},
   "outputs": [
    {
     "name": "stdout",
     "output_type": "stream",
     "text": [
      "current state: start\n"
     ]
    }
   ],
   "source": [
    "# from emepy.ann import ANN, MSNeuralNetwork\n",
    "from emepy.fd import MSEMpy\n",
    "from emepy.eme import Layer, EME\n",
    "import numpy as np\n",
    "from matplotlib import pyplot as plt\n",
    "\n",
    "num_periods = 3  # Number of Periods for Bragg Grating\n",
    "length = .159 # Length of each segment of BG, Period = Length * 2\n",
    "wavelength = 1.55 # Wavelength\n",
    "num_modes = 1  # Number of Modes\n",
    "mesh = 128 # Number of mesh points\n",
    "width1 = 0.46 # Width of first core block\n",
    "width2 = 0.54 # Width of second core block \n",
    "thickness = 0.22 # Thicnkess of the core\n",
    "modesolver = MSEMpy # Which modesolver to use\n",
    "\n",
    "eme = EME(num_periods=num_periods)\n",
    "\n",
    "mode_solver1 = modesolver(\n",
    "    wavelength,\n",
    "    width1,\n",
    "    thickness,\n",
    ")  # First half of bragg grating\n",
    "\n",
    "mode_solver2 = modesolver(\n",
    "    wavelength,\n",
    "    width2,\n",
    "    thickness,\n",
    ")  # Second half of bragg grating\n",
    "\n",
    "eme.add_layer(Layer(mode_solver1, num_modes, wavelength, length))  # First half of bragg grating\n",
    "eme.add_layer(Layer(mode_solver2, num_modes, wavelength, length))  # Second half of bragg grating"
   ]
  },
  {
   "cell_type": "markdown",
   "metadata": {},
   "source": [
    "## 2D Monitors"
   ]
  },
  {
   "cell_type": "markdown",
   "metadata": {},
   "source": [
    "#### XZ Plane\n",
    "\n",
    "The most useful monitor type shows the width cross section along the propagation direction ('xz'). This can be used to verify geometries and visualize field propagation. The available components so far available to users are as follows:\n",
    "\n",
    "- Ex: complex Electric field in the x (width) direction\n",
    "- Ey: complex Electric field in the y (thickness) direction\n",
    "- Ez: complex Electric field in the z (propagation/length) direction\n",
    "- Hx: complex Magnetic field in the x (width) direction\n",
    "- Hy: complex Magnetic field in the y (thickness) direction\n",
    "- Hz: complex Magnetic field in the z (propagation/length) direction\n",
    "- n: refractive index (units are actually of permittivity)\n",
    "- E: $|Electric$ $Field|^2$\n",
    "- H: $|Magnetic$ $Field|^2$"
   ]
  },
  {
   "cell_type": "code",
   "execution_count": 2,
   "metadata": {},
   "outputs": [
    {
     "name": "stdout",
     "output_type": "stream",
     "text": [
      "current state: start\n",
      "No sources defined, defaulting to left_coeffs=[1]\n",
      "current state: mode_solving\n"
     ]
    },
    {
     "name": "stderr",
     "output_type": "stream",
     "text": [
      "2it [00:00,  2.23it/s]\n"
     ]
    },
    {
     "name": "stdout",
     "output_type": "stream",
     "text": [
      "current state: finished_modes\n",
      "current state: layer_propagating\n"
     ]
    },
    {
     "name": "stderr",
     "output_type": "stream",
     "text": [
      "1it [00:00, 79.83it/s]\n"
     ]
    },
    {
     "name": "stdout",
     "output_type": "stream",
     "text": [
      "current state: finished_layer\n",
      "current state: network_building\n",
      "current state: finished_network\n",
      "current state: field_propagating\n"
     ]
    },
    {
     "name": "stderr",
     "output_type": "stream",
     "text": [
      "6it [00:00, 133.18it/s]\n"
     ]
    },
    {
     "name": "stdout",
     "output_type": "stream",
     "text": [
      "current state: finished\n"
     ]
    },
    {
     "data": {
      "image/png": "[encoded data removed]",
      "text/plain": [
       "<Figure size 432x288 with 2 Axes>"
      ]
     },
     "metadata": {
      "needs_background": "light"
     },
     "output_type": "display_data"
    },
    {
     "data": {
      "image/png": "[encoded data removed]",
      "text/plain": [
       "<Figure size 432x288 with 2 Axes>"
      ]
     },
     "metadata": {
      "needs_background": "light"
     },
     "output_type": "display_data"
    }
   ],
   "source": [
    "eme.reset(full_reset=False)\n",
    "\n",
    "monitor = eme.add_monitor(axes=\"xz\")\n",
    "\n",
    "eme.propagate()  # propagate at given wavelength\n",
    "\n",
    "plt.figure()\n",
    "monitor.visualize(component=\"n\")\n",
    "plt.colorbar()\n",
    "plt.show()\n",
    "\n",
    "plt.figure()\n",
    "monitor.visualize(component=\"Hy\")\n",
    "plt.colorbar()\n",
    "plt.show()"
   ]
  },
  {
   "cell_type": "markdown",
   "metadata": {},
   "source": [
    "#### YZ Plane\n",
    "\n",
    "You can look in the thickness plane ('yz') which is often times invariant along the length depending on the foundry process. "
   ]
  },
  {
   "cell_type": "code",
   "execution_count": 3,
   "metadata": {},
   "outputs": [
    {
     "name": "stdout",
     "output_type": "stream",
     "text": [
      "current state: start\n",
      "No sources defined, defaulting to left_coeffs=[1]\n",
      "current state: mode_solving\n"
     ]
    },
    {
     "name": "stderr",
     "output_type": "stream",
     "text": [
      "2it [00:00,  2.18it/s]\n"
     ]
    },
    {
     "name": "stdout",
     "output_type": "stream",
     "text": [
      "current state: finished_modes\n",
      "current state: layer_propagating\n"
     ]
    },
    {
     "name": "stderr",
     "output_type": "stream",
     "text": [
      "1it [00:00, 278.10it/s]\n"
     ]
    },
    {
     "name": "stdout",
     "output_type": "stream",
     "text": [
      "current state: finished_layer\n",
      "current state: network_building\n",
      "current state: finished_network\n",
      "current state: field_propagating\n"
     ]
    },
    {
     "name": "stderr",
     "output_type": "stream",
     "text": [
      "6it [00:00, 140.13it/s]\n"
     ]
    },
    {
     "name": "stdout",
     "output_type": "stream",
     "text": [
      "current state: finished\n"
     ]
    },
    {
     "data": {
      "image/png": "[encoded data removed]",
      "text/plain": [
       "<Figure size 432x288 with 2 Axes>"
      ]
     },
     "metadata": {
      "needs_background": "light"
     },
     "output_type": "display_data"
    },
    {
     "data": {
      "image/png": "[encoded data removed]",
      "text/plain": [
       "<Figure size 432x288 with 2 Axes>"
      ]
     },
     "metadata": {
      "needs_background": "light"
     },
     "output_type": "display_data"
    }
   ],
   "source": [
    "eme.reset(full_reset=False)\n",
    "\n",
    "monitor = eme.add_monitor(axes=\"yz\")\n",
    "\n",
    "eme.propagate()  # propagate at given wavelength\n",
    "\n",
    "plt.figure()\n",
    "monitor.visualize(component=\"n\")\n",
    "plt.colorbar()\n",
    "plt.show()\n",
    "\n",
    "plt.figure()\n",
    "monitor.visualize(component=\"Hx\")\n",
    "plt.colorbar()\n",
    "plt.show()"
   ]
  },
  {
   "cell_type": "markdown",
   "metadata": {},
   "source": [
    "#### XY Plane\n",
    "\n",
    "You can create multiple monitors, and monitors which record cross sectional ('xy') data. "
   ]
  },
  {
   "cell_type": "code",
   "execution_count": 4,
   "metadata": {},
   "outputs": [
    {
     "name": "stdout",
     "output_type": "stream",
     "text": [
      "current state: start\n",
      "No sources defined, defaulting to left_coeffs=[1]\n",
      "current state: mode_solving\n"
     ]
    },
    {
     "name": "stderr",
     "output_type": "stream",
     "text": [
      "2it [00:00,  2.40it/s]\n"
     ]
    },
    {
     "name": "stdout",
     "output_type": "stream",
     "text": [
      "current state: finished_modes\n",
      "current state: layer_propagating\n"
     ]
    },
    {
     "name": "stderr",
     "output_type": "stream",
     "text": [
      "1it [00:00, 247.16it/s]\n"
     ]
    },
    {
     "name": "stdout",
     "output_type": "stream",
     "text": [
      "current state: finished_layer\n",
      "current state: network_building\n",
      "current state: finished_network\n",
      "current state: field_propagating\n"
     ]
    },
    {
     "name": "stderr",
     "output_type": "stream",
     "text": [
      "6it [00:00, 127.54it/s]\n"
     ]
    },
    {
     "name": "stdout",
     "output_type": "stream",
     "text": [
      "current state: finished\n"
     ]
    },
    {
     "data": {
      "image/png": "[encoded data removed]",
      "text/plain": [
       "<Figure size 432x288 with 2 Axes>"
      ]
     },
     "metadata": {
      "needs_background": "light"
     },
     "output_type": "display_data"
    },
    {
     "data": {
      "image/png": "[encoded data removed]",
      "text/plain": [
       "<Figure size 432x288 with 2 Axes>"
      ]
     },
     "metadata": {
      "needs_background": "light"
     },
     "output_type": "display_data"
    },
    {
     "data": {
      "image/png": "[encoded data removed]",
      "text/plain": [
       "<Figure size 432x288 with 2 Axes>"
      ]
     },
     "metadata": {
      "needs_background": "light"
     },
     "output_type": "display_data"
    },
    {
     "data": {
      "image/png": "[encoded data removed]",
      "text/plain": [
       "<Figure size 432x288 with 2 Axes>"
      ]
     },
     "metadata": {
      "needs_background": "light"
     },
     "output_type": "display_data"
    }
   ],
   "source": [
    "eme.reset(full_reset=False)\n",
    "\n",
    "monitor_small = eme.add_monitor(axes=\"xy\", location=0)\n",
    "monitor_large = eme.add_monitor(axes=\"xy\", location=0.2)\n",
    "\n",
    "eme.propagate()  # propagate at given wavelength\n",
    "\n",
    "plt.figure()\n",
    "monitor_small.visualize(component=\"n\")\n",
    "plt.colorbar()\n",
    "plt.show()\n",
    "\n",
    "plt.figure()\n",
    "monitor_small.visualize(component=\"Hx\")\n",
    "plt.colorbar()\n",
    "plt.show()\n",
    "\n",
    "plt.figure()\n",
    "monitor_large.visualize(component=\"n\")\n",
    "plt.colorbar()\n",
    "plt.show()\n",
    "\n",
    "plt.figure()\n",
    "monitor_large.visualize(component=\"Hx\")\n",
    "plt.colorbar()\n",
    "plt.show()"
   ]
  },
  {
   "cell_type": "markdown",
   "metadata": {},
   "source": [
    "#### Get Array\n",
    "\n",
    "Users do not have to use the visualize() method to work with field data. The get_array() method allows users to work with the arrays of data themselves. The arguments are the same as for visualize() and it returns a list of each axis grid i.e. (x,z) and the field data. "
   ]
  },
  {
   "cell_type": "code",
   "execution_count": 5,
   "metadata": {},
   "outputs": [
    {
     "name": "stdout",
     "output_type": "stream",
     "text": [
      "current state: start\n",
      "No sources defined, defaulting to left_coeffs=[1]\n",
      "current state: mode_solving\n"
     ]
    },
    {
     "name": "stderr",
     "output_type": "stream",
     "text": [
      "2it [00:00,  2.44it/s]\n"
     ]
    },
    {
     "name": "stdout",
     "output_type": "stream",
     "text": [
      "current state: finished_modes\n",
      "current state: layer_propagating\n"
     ]
    },
    {
     "name": "stderr",
     "output_type": "stream",
     "text": [
      "1it [00:00, 355.84it/s]\n"
     ]
    },
    {
     "name": "stdout",
     "output_type": "stream",
     "text": [
      "current state: finished_layer\n",
      "current state: network_building\n",
      "current state: finished_network\n",
      "current state: field_propagating\n"
     ]
    },
    {
     "name": "stderr",
     "output_type": "stream",
     "text": [
      "6it [00:00, 136.19it/s]\n"
     ]
    },
    {
     "name": "stdout",
     "output_type": "stream",
     "text": [
      "current state: finished\n"
     ]
    },
    {
     "data": {
      "image/png": "[encoded data removed]",
      "text/plain": [
       "<Figure size 432x288 with 2 Axes>"
      ]
     },
     "metadata": {
      "needs_background": "light"
     },
     "output_type": "display_data"
    },
    {
     "data": {
      "image/png": "[encoded data removed]",
      "text/plain": [
       "<Figure size 432x288 with 2 Axes>"
      ]
     },
     "metadata": {
      "needs_background": "light"
     },
     "output_type": "display_data"
    }
   ],
   "source": [
    "eme.reset(full_reset=False)\n",
    "\n",
    "monitor = eme.add_monitor(axes=\"xz\")\n",
    "\n",
    "eme.propagate()  # propagate at given wavelength\n",
    "x, z, index = monitor.get_array(component=\"n\", axes=\"xz\")\n",
    "x, z, field = monitor.get_array(component=\"Hy\", axes=\"xz\")\n",
    "\n",
    "plt.figure()\n",
    "plt.imshow(np.real(index), extent=[z[0], z[-1], x[0], x[-1]])\n",
    "plt.xlabel('z')\n",
    "plt.ylabel('x')\n",
    "plt.colorbar()\n",
    "plt.show()\n",
    "\n",
    "plt.figure()\n",
    "plt.imshow(np.real(field), extent=[z[0], z[-1], x[0], x[-1]])\n",
    "plt.xlabel('z')\n",
    "plt.ylabel('x')\n",
    "plt.colorbar()\n",
    "plt.show()"
   ]
  },
  {
   "cell_type": "markdown",
   "metadata": {},
   "source": [
    "#### Custom Z Range\n",
    "\n",
    "Users can specify where in z they care to visualize fields. By specifying in add_monitor() before propagation, users can limit how much field data is stored and thus how much memory is consumed. By specifying after propagation in visualize(), users can visualize a subset of the data that is stored. "
   ]
  },
  {
   "cell_type": "code",
   "execution_count": 6,
   "metadata": {},
   "outputs": [
    {
     "name": "stdout",
     "output_type": "stream",
     "text": [
      "current state: start\n",
      "No sources defined, defaulting to left_coeffs=[1]\n",
      "current state: mode_solving\n"
     ]
    },
    {
     "name": "stderr",
     "output_type": "stream",
     "text": [
      "2it [00:00,  2.25it/s]\n"
     ]
    },
    {
     "name": "stdout",
     "output_type": "stream",
     "text": [
      "current state: finished_modes\n",
      "current state: layer_propagating\n"
     ]
    },
    {
     "name": "stderr",
     "output_type": "stream",
     "text": [
      "1it [00:00, 279.81it/s]\n"
     ]
    },
    {
     "name": "stdout",
     "output_type": "stream",
     "text": [
      "current state: finished_layer\n",
      "current state: network_building\n",
      "current state: finished_network\n",
      "current state: field_propagating\n"
     ]
    },
    {
     "name": "stderr",
     "output_type": "stream",
     "text": [
      "6it [00:00, 138.08it/s]\n"
     ]
    },
    {
     "name": "stdout",
     "output_type": "stream",
     "text": [
      "current state: finished\n"
     ]
    },
    {
     "data": {
      "image/png": "[encoded data removed]",
      "text/plain": [
       "<Figure size 432x288 with 2 Axes>"
      ]
     },
     "metadata": {
      "needs_background": "light"
     },
     "output_type": "display_data"
    },
    {
     "data": {
      "image/png": "[encoded data removed]",
      "text/plain": [
       "<Figure size 432x288 with 2 Axes>"
      ]
     },
     "metadata": {
      "needs_background": "light"
     },
     "output_type": "display_data"
    },
    {
     "data": {
      "image/png": "[encoded data removed]",
      "text/plain": [
       "<Figure size 432x288 with 2 Axes>"
      ]
     },
     "metadata": {
      "needs_background": "light"
     },
     "output_type": "display_data"
    },
    {
     "name": "stdout",
     "output_type": "stream",
     "text": [
      "current state: start\n"
     ]
    }
   ],
   "source": [
    "eme.reset(full_reset=False)\n",
    "\n",
    "monitor = eme.add_monitor(axes=\"xz\", z_range=(1*0.159, 5*0.159))\n",
    "\n",
    "eme.propagate()  # propagate at given wavelength\n",
    "\n",
    "plt.figure()\n",
    "monitor.visualize(component=\"n\", axes=\"xz\")\n",
    "plt.colorbar()\n",
    "plt.show()\n",
    "\n",
    "plt.figure()\n",
    "monitor.visualize(component=\"Hy\", axes=\"xz\")\n",
    "plt.colorbar()\n",
    "plt.show()\n",
    "\n",
    "# Smaller subset of fields stored\n",
    "plt.figure()\n",
    "monitor.visualize(component=\"Hy\", axes=\"xz\", z_range=(2*0.159, 4*0.159))\n",
    "plt.colorbar()\n",
    "plt.show()\n",
    "\n",
    "eme.reset()"
   ]
  },
  {
   "cell_type": "markdown",
   "metadata": {},
   "source": [
    "#### Custom XY Mesh Grid\n",
    "\n",
    "In some instances, it's optimal to be able to extract field data on a different grid than that used to perform the simulation. The most applicable example is when using EMEPy's neural networks. For simplicity, EMEPy's ANN  only solves on a 128x128 mesh grid for simplicity (not having to train multiple networks). Users can solve using the ANN and then interpolate onto a more custom mesh grid. "
   ]
  },
  {
   "cell_type": "code",
   "execution_count": 7,
   "metadata": {},
   "outputs": [
    {
     "ename": "FileNotFoundError",
     "evalue": "[Errno 2] No such file or directory: '/Users/ianhammond/GitHub/emepy/emepy/models/Hx_chunks/'",
     "output_type": "error",
     "traceback": [
      "\u001b[0;31m---------------------------------------------------------------------------\u001b[0m",
      "\u001b[0;31mFileNotFoundError\u001b[0m                         Traceback (most recent call last)",
      "\u001b[1;32m/Users/ianhammond/GitHub/emepy/examples/tutorials/monitors.ipynb Cell 15\u001b[0m in \u001b[0;36m<cell line: 20>\u001b[0;34m()\u001b[0m\n\u001b[1;32m     <a href='vscode-notebook-cell:/Users/ianhammond/GitHub/emepy/examples/tutorials/monitors.ipynb#X20sZmlsZQ%3D%3D?line=16'>17</a>\u001b[0m taper_density \u001b[39m=\u001b[39m \u001b[39m7\u001b[39m \u001b[39m# Number of taper segments\u001b[39;00m\n\u001b[1;32m     <a href='vscode-notebook-cell:/Users/ianhammond/GitHub/emepy/examples/tutorials/monitors.ipynb#X20sZmlsZQ%3D%3D?line=17'>18</a>\u001b[0m wg_length \u001b[39m=\u001b[39m \u001b[39m0.5\u001b[39m \u001b[39m*\u001b[39m (length \u001b[39m-\u001b[39m taper_length)  \u001b[39m# Length of each division in the taper\u001b[39;00m\n\u001b[0;32m---> <a href='vscode-notebook-cell:/Users/ianhammond/GitHub/emepy/examples/tutorials/monitors.ipynb#X20sZmlsZQ%3D%3D?line=19'>20</a>\u001b[0m ann \u001b[39m=\u001b[39m ANN()\n\u001b[1;32m     <a href='vscode-notebook-cell:/Users/ianhammond/GitHub/emepy/examples/tutorials/monitors.ipynb#X20sZmlsZQ%3D%3D?line=20'>21</a>\u001b[0m eme \u001b[39m=\u001b[39m EME()  \u001b[39m# Choose either a normal eme or a periodic eme (PeriodicEME())\u001b[39;00m\n\u001b[1;32m     <a href='vscode-notebook-cell:/Users/ianhammond/GitHub/emepy/examples/tutorials/monitors.ipynb#X20sZmlsZQ%3D%3D?line=22'>23</a>\u001b[0m \u001b[39m# first layer is a straight waveguide\u001b[39;00m\n",
      "File \u001b[0;32m~/GitHub/emepy/emepy/ann.py:172\u001b[0m, in \u001b[0;36mANN.__init__\u001b[0;34m(self)\u001b[0m\n\u001b[1;32m    169\u001b[0m \u001b[39mself\u001b[39m\u001b[39m.\u001b[39mx \u001b[39m=\u001b[39m np\u001b[39m.\u001b[39mlinspace(\u001b[39m0\u001b[39m, \u001b[39m2.5\u001b[39m, FIELD_WIDTH)\n\u001b[1;32m    170\u001b[0m \u001b[39mself\u001b[39m\u001b[39m.\u001b[39my \u001b[39m=\u001b[39m np\u001b[39m.\u001b[39mlinspace(\u001b[39m0\u001b[39m, \u001b[39m2.5\u001b[39m, FIELD_WIDTH)\n\u001b[0;32m--> 172\u001b[0m \u001b[39mself\u001b[39m\u001b[39m.\u001b[39mHx_model \u001b[39m=\u001b[39m \u001b[39mself\u001b[39;49m\u001b[39m.\u001b[39;49mHx_network()\n\u001b[1;32m    173\u001b[0m \u001b[39mself\u001b[39m\u001b[39m.\u001b[39mHy_model \u001b[39m=\u001b[39m \u001b[39mself\u001b[39m\u001b[39m.\u001b[39mHy_network()\n\u001b[1;32m    174\u001b[0m \u001b[39mself\u001b[39m\u001b[39m.\u001b[39mneff_model \u001b[39m=\u001b[39m \u001b[39mself\u001b[39m\u001b[39m.\u001b[39mneff_regression()\n",
      "File \u001b[0;32m~/GitHub/emepy/emepy/ann.py:187\u001b[0m, in \u001b[0;36mANN.Hx_network\u001b[0;34m(self)\u001b[0m\n\u001b[1;32m    184\u001b[0m \u001b[39mdef\u001b[39;00m \u001b[39mHx_network\u001b[39m(\u001b[39mself\u001b[39m) \u001b[39m-\u001b[39m\u001b[39m>\u001b[39m Network:\n\u001b[1;32m    185\u001b[0m     \u001b[39m\"\"\"Return the opened network model for the Hx component\"\"\"\u001b[39;00m\n\u001b[0;32m--> 187\u001b[0m     from_chunks(os\u001b[39m.\u001b[39;49mpath\u001b[39m.\u001b[39;49mdirname(os\u001b[39m.\u001b[39;49mpath\u001b[39m.\u001b[39;49mabspath(\u001b[39m__file__\u001b[39;49m)) \u001b[39m+\u001b[39;49m \u001b[39m\"\u001b[39;49m\u001b[39m/models/Hx_chunks/\u001b[39;49m\u001b[39m\"\u001b[39;49m, \u001b[39m\"\u001b[39;49m\u001b[39mhx_temp.pt\u001b[39;49m\u001b[39m\"\u001b[39;49m)\n\u001b[1;32m    188\u001b[0m     \u001b[39mwith\u001b[39;00m \u001b[39mopen\u001b[39m(\u001b[39m\"\u001b[39m\u001b[39mhx_temp.pt\u001b[39m\u001b[39m\"\u001b[39m, \u001b[39m\"\u001b[39m\u001b[39mrb\u001b[39m\u001b[39m\"\u001b[39m) \u001b[39mas\u001b[39;00m f:\n\u001b[1;32m    189\u001b[0m         model \u001b[39m=\u001b[39m Network(\u001b[39m3\u001b[39m, \u001b[39m1\u001b[39m, \u001b[39m\"\u001b[39m\u001b[39mHx\u001b[39m\u001b[39m\"\u001b[39m)\n",
      "File \u001b[0;32m~/GitHub/emepy/emepy/tools.py:435\u001b[0m, in \u001b[0;36mfrom_chunks\u001b[0;34m(location, name)\u001b[0m\n\u001b[1;32m    433\u001b[0m     location \u001b[39m+\u001b[39m\u001b[39m=\u001b[39m \u001b[39m\"\u001b[39m\u001b[39m/\u001b[39m\u001b[39m\"\u001b[39m\n\u001b[1;32m    434\u001b[0m f \u001b[39m=\u001b[39m \u001b[39mopen\u001b[39m(name, \u001b[39m\"\u001b[39m\u001b[39mwb+\u001b[39m\u001b[39m\"\u001b[39m)\n\u001b[0;32m--> 435\u001b[0m direc \u001b[39m=\u001b[39m os\u001b[39m.\u001b[39;49mlistdir(location)\n\u001b[1;32m    436\u001b[0m keys \u001b[39m=\u001b[39m [\u001b[39mint\u001b[39m(d[\u001b[39m9\u001b[39m:]) \u001b[39mfor\u001b[39;00m d \u001b[39min\u001b[39;00m direc]\n\u001b[1;32m    437\u001b[0m dic \u001b[39m=\u001b[39m \u001b[39mdict\u001b[39m(\u001b[39mzip\u001b[39m(keys, direc))\n",
      "\u001b[0;31mFileNotFoundError\u001b[0m: [Errno 2] No such file or directory: '/Users/ianhammond/GitHub/emepy/emepy/models/Hx_chunks/'"
     ]
    }
   ],
   "source": [
    "import emepy\n",
    "from emepy.eme import Layer, EME\n",
    "from emepy.mode import Mode\n",
    "from emepy.ann import MSNeuralNetwork, ANN\n",
    "import numpy as np\n",
    "from matplotlib import pyplot as plt\n",
    "\n",
    "# Geometric parameters\n",
    "width1 = 0.7  # Width of left waveguide\n",
    "thickness1 = 0.22  # Thickness of left waveguide\n",
    "width2 = 0.3  # Width of right waveguide\n",
    "thickness2 = 0.22  # Thickness of right waveguide\n",
    "wavelength = 1.55  # Wavelength of light (m)\n",
    "length = 5  # Length of the waveguides\n",
    "taper_length = 0.75  # The length of the taper\n",
    "num_modes=1 #Number of modes\n",
    "taper_density = 7 # Number of taper segments\n",
    "wg_length = 0.5 * (length - taper_length)  # Length of each division in the taper\n",
    "\n",
    "ann = ANN()\n",
    "eme = EME()  # Choose either a normal eme or a periodic eme (PeriodicEME())\n",
    "\n",
    "# first layer is a straight waveguide\n",
    "mode1 = MSNeuralNetwork(\n",
    "    ann, \n",
    "    wavelength,\n",
    "    width1,\n",
    "    thickness1\n",
    ")\n",
    "straight1 = Layer(mode1, num_modes, wavelength, wg_length)\n",
    "eme.add_layer(straight1)\n",
    "\n",
    "# create the discrete taper with a fine enough taper density to approximate a continuous linear taper\n",
    "widths = np.linspace(width1, width2, taper_density)\n",
    "thicknesses = np.linspace(thickness1, thickness2, taper_density)\n",
    "taper_length_per = taper_length / taper_density if taper_density else None\n",
    "\n",
    "# add the taper layers\n",
    "for i in range(taper_density):\n",
    "    solver = MSNeuralNetwork(ann, wavelength, widths[i], thicknesses[i])\n",
    "    taper_layer = Layer(solver, num_modes, wavelength, taper_length_per)\n",
    "    eme.add_layer(taper_layer)\n",
    "\n",
    "# last layer is a straight waveguide of smaller geometry\n",
    "mode2 = MSNeuralNetwork(ann, wavelength, width2, thickness2)\n",
    "straight2 = Layer(mode2, num_modes, wavelength, wg_length)\n",
    "eme.add_layer(straight2)\n",
    "\n",
    "monitor = eme.add_monitor(axes=\"xz\")\n",
    "\n",
    "eme.propagate(left_coeffs=np.array([1]))  # Run the eme\n",
    "\n",
    "x_grid = np.linspace(0,2.5,100)\n",
    "x, z, n = monitor.get_array(axes=\"xz\", component=\"n\", grid_x=x_grid)\n",
    "plt.figure()\n",
    "plt.imshow(np.real(n))\n",
    "plt.show()\n"
   ]
  },
  {
   "cell_type": "markdown",
   "metadata": {},
   "source": [
    "## 3D Monitors\n",
    "\n",
    "If a 3D monitor is chosen (\"xyz\") more field data is stored requiring more memory. However, this lets users visualize any cross section in the entire simulation (or specified) domain or extract the entire 3D field as an array. "
   ]
  },
  {
   "cell_type": "code",
   "execution_count": null,
   "metadata": {},
   "outputs": [],
   "source": [
    "import emepy\n",
    "from emepy import Layer, EME, Mode, MSEMpy\n",
    "import numpy as np\n",
    "from matplotlib import pyplot as plt\n",
    "from emepy.tools import Si, SiO2\n",
    "\n",
    "# Geometric parameters\n",
    "wavelength = 1.55 # Wavelength\n",
    "width = 0.4  # Width of left waveguide\n",
    "gap = 0.2 # Gap between waveguides\n",
    "thickness = 0.22  # Thickness of left waveguide\n",
    "num_modes=2 # Number of modes\n",
    "mesh=100 # Number of mesh points\n",
    "core_index=Si(wavelength*1e6) # Silicon core\n",
    "cladding_index=SiO2(wavelength*1e6) # Oxide cladding\n",
    "x = np.linspace(-2,2,mesh)\n",
    "n = np.ones(mesh) * cladding_index\n",
    "\n",
    "# Create simulation \n",
    "eme_2 = EME()\n",
    "\n",
    "# Create left waveguide\n",
    "single_left_edge = -gap/2-width\n",
    "single_right_edge = -gap/2\n",
    "single_n = np.where((single_left_edge <= x) * (x <= single_right_edge), core_index, n)\n",
    "\n",
    "single_channel = MSEMpy(\n",
    "    wavelength,\n",
    "    width=None,\n",
    "    thickness=thickness,\n",
    "    cladding_index=cladding_index,\n",
    "    num_modes=num_modes,\n",
    "    mesh=mesh,\n",
    "    x=x,\n",
    "    y=x,\n",
    "    n=single_n\n",
    ")\n",
    "\n",
    "# Create left waveguide\n",
    "left_edge = -gap/2-width\n",
    "right_edge = -gap/2\n",
    "n = np.where((left_edge <= x) * (x <= right_edge), core_index, n)\n",
    "\n",
    "# Create right waveguide\n",
    "left_edge = gap/2\n",
    "right_edge = gap/2+width\n",
    "n = np.where((left_edge <= x) * (x <= right_edge), core_index, n)\n",
    "\n",
    "two_channel = MSEMpy(\n",
    "    wavelength,\n",
    "    width=None,\n",
    "    thickness=thickness,\n",
    "    cladding_index=cladding_index,\n",
    "    num_modes=num_modes,\n",
    "    mesh=mesh,\n",
    "    x=x,\n",
    "    y=x,\n",
    "    n=n\n",
    ")\n",
    "\n",
    "eme_2.add_layer(Layer(single_channel, num_modes, wavelength, 0.5))  # First half of bragg grating\n",
    "eme_2.add_layer(Layer(two_channel, num_modes, wavelength, 25))  # Second half of bragg grating\n",
    "\n",
    "monitor = eme_2.add_monitor(axes=\"xyz\")\n",
    "\n",
    "eme_2.propagate()  # propagate at given wavelength"
   ]
  },
  {
   "cell_type": "markdown",
   "metadata": {},
   "source": [
    "### Visualize 2D subset"
   ]
  },
  {
   "cell_type": "code",
   "execution_count": null,
   "metadata": {},
   "outputs": [],
   "source": [
    "plt.figure()\n",
    "monitor.visualize(component=\"n\", axes=\"xz\")\n",
    "plt.colorbar()\n",
    "plt.show()\n",
    "\n",
    "plt.figure()\n",
    "monitor.visualize(component=\"Hy\", axes=\"xz\")\n",
    "plt.colorbar()\n",
    "plt.show()"
   ]
  },
  {
   "cell_type": "markdown",
   "metadata": {},
   "source": [
    "### Extract full 3D field"
   ]
  },
  {
   "cell_type": "code",
   "execution_count": null,
   "metadata": {},
   "outputs": [],
   "source": [
    "x, y, z, field = monitor.get_array(component=\"E\")\n",
    "\n",
    "print(\"x shape: {}\".format(x.shape))\n",
    "print(\"y shape: {}\".format(y.shape))\n",
    "print(\"z shape: {}\".format(z.shape))\n",
    "print(\"field shape: {}\".format(field.shape))"
   ]
  },
  {
   "cell_type": "code",
   "execution_count": null,
   "metadata": {},
   "outputs": [],
   "source": []
  }
 ],
 "metadata": {
  "kernelspec": {
   "display_name": "Python 3.10.4 ('pmp')",
   "language": "python",
   "name": "python3"
  },
  "language_info": {
   "codemirror_mode": {
    "name": "ipython",
    "version": 3
   },
   "file_extension": ".py",
   "mimetype": "text/x-python",
   "name": "python",
   "nbconvert_exporter": "python",
   "pygments_lexer": "ipython3",
   "version": "3.10.4"
  },
  "vscode": {
   "interpreter": {
    "hash": "b8db67128494af189a898d936492a5f384f4e17c5b96054f98b83c5b95b39d0e"
   }
  }
 },
 "nbformat": 4,
 "nbformat_minor": 4
}

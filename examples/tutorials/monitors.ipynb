{
 "cells": [
  {
   "cell_type": "markdown",
   "metadata": {},
   "source": [
    "# EMEPy Monitors\n",
    "\n",
    "This notebook demonstrates how to use monitors in EMEPy to visualize field propagation. "
   ]
  },
  {
   "cell_type": "code",
   "execution_count": null,
   "metadata": {},
   "outputs": [],
   "source": [
    "# from emepy.ann import ANN, MSNeuralNetwork\n",
    "from emepy.fd import MSEMpy\n",
    "from emepy.eme import Layer, EME\n",
    "import numpy as np\n",
    "from matplotlib import pyplot as plt\n",
    "\n",
    "num_periods = 3  # Number of Periods for Bragg Grating\n",
    "length = .159e-6 # Length of each segment of BG, Period = Length * 2\n",
    "wavelength = 1.55e-6 # Wavelength\n",
    "num_modes = 1  # Number of Modes\n",
    "mesh = 128 # Number of mesh points\n",
    "width1 = 0.46e-6 # Width of first core block\n",
    "width2 = 0.54e-6 # Width of second core block \n",
    "thickness = 0.22e-6 # Thicnkess of the core\n",
    "modesolver = MSEMpy # Which modesolver to use\n",
    "\n",
    "eme = EME(num_periods=num_periods)\n",
    "# ann = ANN()\n",
    "\n",
    "mode_solver1 = modesolver(\n",
    "    # ann,\n",
    "    wavelength,\n",
    "    width1,\n",
    "    thickness,\n",
    ")  # First half of bragg grating\n",
    "\n",
    "mode_solver2 = modesolver(\n",
    "    # ann,\n",
    "    wavelength,\n",
    "    width2,\n",
    "    thickness,\n",
    ")  # Second half of bragg grating\n",
    "\n",
    "eme.add_layer(Layer(mode_solver1, num_modes, wavelength, length))  # First half of bragg grating\n",
    "eme.add_layer(Layer(mode_solver2, num_modes, wavelength, length))  # Second half of bragg grating"
   ]
  },
  {
   "cell_type": "markdown",
   "metadata": {},
   "source": [
    "## 2D Monitors"
   ]
  },
  {
   "cell_type": "markdown",
   "metadata": {},
   "source": [
    "#### XZ Plane\n",
    "\n",
    "The most useful monitor type shows the width cross section along the propagation direction ('xz'). This can be used to verify geometries and visualize field propagation. The available components so far available to users are as follows:\n",
    "\n",
    "- Ex: complex Electric field in the x (width) direction\n",
    "- Ey: complex Electric field in the y (thickness) direction\n",
    "- Ez: complex Electric field in the z (propagation/length) direction\n",
    "- Hx: complex Magnetic field in the x (width) direction\n",
    "- Hy: complex Magnetic field in the y (thickness) direction\n",
    "- Hz: complex Magnetic field in the z (propagation/length) direction\n",
    "- n: refractive index (units are actually of permittivity)\n",
    "- E: $|Electric$ $Field|^2$\n",
    "- H: $|Magnetic$ $Field|^2$"
   ]
  },
  {
   "cell_type": "code",
   "execution_count": null,
   "metadata": {},
   "outputs": [],
   "source": [
    "eme.reset(full_reset=False)\n",
    "\n",
    "monitor = eme.add_monitor(axes=\"xz\")\n",
    "\n",
    "eme.propagate()  # propagate at given wavelength\n",
    "\n",
    "plt.figure()\n",
    "monitor.visualize(component=\"n\")\n",
    "plt.colorbar()\n",
    "plt.show()\n",
    "\n",
    "plt.figure()\n",
    "monitor.visualize(component=\"Hy\")\n",
    "plt.colorbar()\n",
    "plt.show()"
   ]
  },
  {
   "cell_type": "markdown",
   "metadata": {},
   "source": [
    "#### YZ Plane\n",
    "\n",
    "You can look in the thickness plane ('yz') which is often times invariant along the length depending on the foundry process. "
   ]
  },
  {
   "cell_type": "code",
   "execution_count": null,
   "metadata": {},
   "outputs": [],
   "source": [
    "eme.reset(full_reset=False)\n",
    "\n",
    "monitor = eme.add_monitor(axes=\"yz\")\n",
    "\n",
    "eme.propagate()  # propagate at given wavelength\n",
    "\n",
    "plt.figure()\n",
    "monitor.visualize(component=\"n\")\n",
    "plt.colorbar()\n",
    "plt.show()\n",
    "\n",
    "plt.figure()\n",
    "monitor.visualize(component=\"Hx\")\n",
    "plt.colorbar()\n",
    "plt.show()"
   ]
  },
  {
   "cell_type": "markdown",
   "metadata": {},
   "source": [
    "#### XY Plane\n",
    "\n",
    "You can create multiple monitors, and monitors which record cross sectional ('xy') data. "
   ]
  },
  {
   "cell_type": "code",
   "execution_count": null,
   "metadata": {},
   "outputs": [],
   "source": [
    "eme.reset(full_reset=False)\n",
    "\n",
    "monitor_small = eme.add_monitor(axes=\"xy\", location=0e-6)\n",
    "monitor_large = eme.add_monitor(axes=\"xy\", location=0.2e-6)\n",
    "\n",
    "eme.propagate()  # propagate at given wavelength\n",
    "\n",
    "plt.figure()\n",
    "monitor_small.visualize(component=\"n\")\n",
    "plt.colorbar()\n",
    "plt.show()\n",
    "\n",
    "plt.figure()\n",
    "monitor_small.visualize(component=\"Hx\")\n",
    "plt.colorbar()\n",
    "plt.show()\n",
    "\n",
    "plt.figure()\n",
    "monitor_large.visualize(component=\"n\")\n",
    "plt.colorbar()\n",
    "plt.show()\n",
    "\n",
    "plt.figure()\n",
    "monitor_large.visualize(component=\"Hx\")\n",
    "plt.colorbar()\n",
    "plt.show()"
   ]
  },
  {
   "cell_type": "markdown",
   "metadata": {},
   "source": [
    "#### Get Array\n",
    "\n",
    "Users do not have to use the visualize() method to work with field data. The get_array() method allows users to work with the arrays of data themselves. The arguments are the same as for visualize() and it returns a list of each axis grid i.e. (x,z) and the field data. "
   ]
  },
  {
   "cell_type": "code",
   "execution_count": null,
   "metadata": {},
   "outputs": [],
   "source": [
    "eme.reset(full_reset=False)\n",
    "\n",
    "monitor = eme.add_monitor(axes=\"xz\")\n",
    "\n",
    "eme.propagate()  # propagate at given wavelength\n",
    "x, z, index = monitor.get_array(component=\"n\", axes=\"xz\")\n",
    "x, z, field = monitor.get_array(component=\"Hy\", axes=\"xz\")\n",
    "\n",
    "plt.figure()\n",
    "plt.imshow(np.real(index), extent=[z[0], z[-1], x[0], x[-1]])\n",
    "plt.xlabel('z')\n",
    "plt.ylabel('x')\n",
    "plt.colorbar()\n",
    "plt.show()\n",
    "\n",
    "plt.figure()\n",
    "plt.imshow(np.real(field), extent=[z[0], z[-1], x[0], x[-1]])\n",
    "plt.xlabel('z')\n",
    "plt.ylabel('x')\n",
    "plt.colorbar()\n",
    "plt.show()"
   ]
  },
  {
   "cell_type": "markdown",
   "metadata": {},
   "source": [
    "#### Custom Z Range\n",
    "\n",
    "Users can specify where in z they care to visualize fields. By specifying in add_monitor() before propagation, users can limit how much field data is stored and thus how much memory is consumed. By specifying after propagation in visualize(), users can visualize a subset of the data that is stored. "
   ]
  },
  {
   "cell_type": "code",
   "execution_count": null,
   "metadata": {},
   "outputs": [],
   "source": [
    "eme.reset(full_reset=False)\n",
    "\n",
    "monitor = eme.add_monitor(axes=\"xz\", z_range=(1*0.159e-6, 5*0.159e-6))\n",
    "\n",
    "eme.propagate()  # propagate at given wavelength\n",
    "\n",
    "plt.figure()\n",
    "monitor.visualize(component=\"n\", axes=\"xz\")\n",
    "plt.colorbar()\n",
    "plt.show()\n",
    "\n",
    "plt.figure()\n",
    "monitor.visualize(component=\"Hy\", axes=\"xz\")\n",
    "plt.colorbar()\n",
    "plt.show()\n",
    "\n",
    "# Smaller subset of fields stored\n",
    "plt.figure()\n",
    "monitor.visualize(component=\"Hy\", axes=\"xz\", z_range=(2*0.159e-6, 4*0.159e-6))\n",
    "plt.colorbar()\n",
    "plt.show()\n",
    "\n",
    "eme.reset()"
   ]
  },
  {
   "cell_type": "markdown",
   "metadata": {},
   "source": [
    "#### Custom XY Mesh Grid\n",
    "\n",
    "In some instances, it's optimal to be able to extract field data on a different grid than that used to perform the simulation. The most applicable example is when using EMEPy's neural networks. For simplicity, EMEPy's ANN  only solves on a 128x128 mesh grid for simplicity (not having to train multiple networks). Users can solve using the ANN and then interpolate onto a more custom mesh grid. "
   ]
  },
  {
   "cell_type": "code",
   "execution_count": null,
   "metadata": {},
   "outputs": [],
   "source": [
    "import emepy\n",
    "from emepy.eme import Layer, EME\n",
    "from emepy.mode import Mode\n",
    "from emepy.ann import MSNeuralNetwork, ANN\n",
    "import numpy as np\n",
    "from matplotlib import pyplot as plt\n",
    "\n",
    "# Geometric parameters\n",
    "width1 = 0.7e-6  # Width of left waveguide\n",
    "thickness1 = 0.22e-6  # Thickness of left waveguide\n",
    "width2 = 0.3e-6  # Width of right waveguide\n",
    "thickness2 = 0.22e-6  # Thickness of right waveguide\n",
    "wavelength = 1.55e-6  # Wavelength of light (m)\n",
    "length = 5e-6  # Length of the waveguides\n",
    "taper_length = 0.75e-6  # The length of the taper\n",
    "num_modes=1 #Number of modes\n",
    "taper_density = 7 # Number of taper segments\n",
    "wg_length = 0.5 * (length - taper_length)  # Length of each division in the taper\n",
    "\n",
    "ann = ANN()\n",
    "eme = EME()  # Choose either a normal eme or a periodic eme (PeriodicEME())\n",
    "\n",
    "# first layer is a straight waveguide\n",
    "mode1 = MSNeuralNetwork(\n",
    "    ann, \n",
    "    wavelength,\n",
    "    width1,\n",
    "    thickness1\n",
    ")\n",
    "straight1 = Layer(mode1, num_modes, wavelength, wg_length)\n",
    "eme.add_layer(straight1)\n",
    "\n",
    "# create the discrete taper with a fine enough taper density to approximate a continuous linear taper\n",
    "widths = np.linspace(width1, width2, taper_density)\n",
    "thicknesses = np.linspace(thickness1, thickness2, taper_density)\n",
    "taper_length_per = taper_length / taper_density if taper_density else None\n",
    "\n",
    "# add the taper layers\n",
    "for i in range(taper_density):\n",
    "    solver = MSNeuralNetwork(ann, wavelength, widths[i], thicknesses[i])\n",
    "    taper_layer = Layer(solver, num_modes, wavelength, taper_length_per)\n",
    "    eme.add_layer(taper_layer)\n",
    "\n",
    "# last layer is a straight waveguide of smaller geometry\n",
    "mode2 = MSNeuralNetwork(ann, wavelength, width2, thickness2)\n",
    "straight2 = Layer(mode2, num_modes, wavelength, wg_length)\n",
    "eme.add_layer(straight2)\n",
    "\n",
    "monitor = eme.add_monitor(axes=\"xz\")\n",
    "\n",
    "eme.propagate(input_array=np.array([1,0]))  # Run the eme\n",
    "\n",
    "x_grid = np.linspace(0,2.5e-6,100)\n",
    "x, z, n = monitor.get_array(axes=\"xz\", component=\"n\", grid_x=x_grid)\n",
    "plt.figure()\n",
    "plt.imshow(np.real(n))\n",
    "plt.show()\n"
   ]
  },
  {
   "cell_type": "markdown",
   "metadata": {},
   "source": [
    "## 3D Monitors\n",
    "\n",
    "If a 3D monitor is chosen (\"xyz\") more field data is stored requiring more memory. However, this lets users visualize any cross section in the entire simulation (or specified) domain or extract the entire 3D field as an array. "
   ]
  },
  {
   "cell_type": "code",
   "execution_count": null,
   "metadata": {},
   "outputs": [],
   "source": [
    "import emepy\n",
    "from emepy.eme import Layer, EME\n",
    "from emepy.mode import Mode\n",
    "from emepy.fd import MSEMpy\n",
    "import numpy as np\n",
    "from matplotlib import pyplot as plt\n",
    "from emepy.tools import Si, SiO2\n",
    "\n",
    "# Geometric parameters\n",
    "wavelength = 1.55e-6 # Wavelength\n",
    "width = 0.4e-6  # Width of left waveguide\n",
    "gap = 0.2e-6 # Gap between waveguides\n",
    "thickness = 0.22e-6  # Thickness of left waveguide\n",
    "num_modes=2 # Number of modes\n",
    "mesh=100 # Number of mesh points\n",
    "core_index=Si(wavelength*1e6) # Silicon core\n",
    "cladding_index=SiO2(wavelength*1e6) # Oxide cladding\n",
    "x = np.linspace(-2e-6,2e-6,mesh)\n",
    "n = np.ones(mesh) * cladding_index\n",
    "\n",
    "# Create simulation \n",
    "eme_2 = EME()\n",
    "\n",
    "# Create left waveguide\n",
    "single_left_edge = -gap/2-width\n",
    "single_right_edge = -gap/2\n",
    "single_n = np.where((single_left_edge <= x) * (x <= single_right_edge), core_index, n)\n",
    "\n",
    "single_channel = MSEMpy(\n",
    "    wavelength,\n",
    "    width=None,\n",
    "    thickness=thickness,\n",
    "    cladding_index=cladding_index,\n",
    "    num_modes=num_modes,\n",
    "    mesh=mesh,\n",
    "    x=x,\n",
    "    y=x,\n",
    "    n=single_n\n",
    ")\n",
    "\n",
    "# Create left waveguide\n",
    "left_edge = -gap/2-width\n",
    "right_edge = -gap/2\n",
    "n = np.where((left_edge <= x) * (x <= right_edge), core_index, n)\n",
    "\n",
    "# Create right waveguide\n",
    "left_edge = gap/2\n",
    "right_edge = gap/2+width\n",
    "n = np.where((left_edge <= x) * (x <= right_edge), core_index, n)\n",
    "\n",
    "two_channel = MSEMpy(\n",
    "    wavelength,\n",
    "    width=None,\n",
    "    thickness=thickness,\n",
    "    cladding_index=cladding_index,\n",
    "    num_modes=num_modes,\n",
    "    mesh=mesh,\n",
    "    x=x,\n",
    "    y=x,\n",
    "    n=n\n",
    ")\n",
    "\n",
    "eme_2.add_layer(Layer(single_channel, num_modes, wavelength, 0.5e-6))  # First half of bragg grating\n",
    "eme_2.add_layer(Layer(two_channel, num_modes, wavelength, 25e-6))  # Second half of bragg grating\n",
    "\n",
    "monitor = eme_2.add_monitor(axes=\"xyz\")\n",
    "\n",
    "eme_2.propagate()  # propagate at given wavelength"
   ]
  },
  {
   "cell_type": "markdown",
   "metadata": {},
   "source": [
    "### Visualize 2D subset"
   ]
  },
  {
   "cell_type": "code",
   "execution_count": null,
   "metadata": {},
   "outputs": [],
   "source": [
    "plt.figure()\n",
    "monitor.visualize(component=\"n\", axes=\"xz\")\n",
    "plt.colorbar()\n",
    "plt.show()\n",
    "\n",
    "plt.figure()\n",
    "monitor.visualize(component=\"Hy\", axes=\"xz\")\n",
    "plt.colorbar()\n",
    "plt.show()"
   ]
  },
  {
   "cell_type": "markdown",
   "metadata": {},
   "source": [
    "### Extract full 3D field"
   ]
  },
  {
   "cell_type": "code",
   "execution_count": null,
   "metadata": {},
   "outputs": [],
   "source": [
    "x, y, z, field = monitor.get_array(component=\"E\")\n",
    "\n",
    "print(\"x shape: {}\".format(x.shape))\n",
    "print(\"y shape: {}\".format(y.shape))\n",
    "print(\"z shape: {}\".format(z.shape))\n",
    "print(\"field shape: {}\".format(field.shape))"
   ]
  }
 ],
 "metadata": {
  "interpreter": {
   "hash": "f7a3b17dc27950022b3a097db529a6e9000db08ac14a3825be3b4e322625075e"
  },
  "kernelspec": {
   "display_name": "Python 3 (ipykernel)",
   "language": "python",
   "name": "python3"
  },
  "language_info": {
   "codemirror_mode": {
    "name": "ipython",
    "version": 3
   },
   "file_extension": ".py",
   "mimetype": "text/x-python",
   "name": "python",
   "nbconvert_exporter": "python",
   "pygments_lexer": "ipython3",
   "version": "3.9.5"
  }
 },
 "nbformat": 4,
 "nbformat_minor": 4
}

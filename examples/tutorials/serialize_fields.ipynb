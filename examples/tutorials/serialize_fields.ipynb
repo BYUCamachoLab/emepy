{
 "cells": [
  {
   "cell_type": "markdown",
   "metadata": {},
   "source": [
    "# EMEPy Mode Serialization"
   ]
  },
  {
   "cell_type": "code",
   "execution_count": null,
   "metadata": {},
   "outputs": [],
   "source": [
    "from emepy.fd import MSEMpy\n",
    "from emepy.fd import MSPickle\n",
    "from matplotlib import pyplot as plt\n",
    "import pickle as pk\n",
    "\n",
    "modesolver = MSEMpy(wl=1.55e-6, width=0.5e-6, thickness=0.22e-6, mesh=128)\n",
    "modesolver.solve()\n",
    "mode = modesolver.get_mode()\n",
    "pk.dump(mode, open(\"./example_file.pk\", \"wb+\"))\n",
    "\n",
    "# Separate instance\n",
    "\n",
    "modesolver = MSPickle(filename=\"./example_file.pk\", width=0.5e-6, thickness=0.22e-6)\n",
    "\n",
    "modesolver.solve()\n",
    "mode = modesolver.get_mode()\n",
    "\n",
    "plt.figure()\n",
    "mode.plot(value_type=\"Imaginary\")\n",
    "plt.show()\n"
   ]
  }
 ],
 "metadata": {
  "language_info": {
   "name": "plaintext"
  },
  "orig_nbformat": 4
 },
 "nbformat": 4,
 "nbformat_minor": 2
}

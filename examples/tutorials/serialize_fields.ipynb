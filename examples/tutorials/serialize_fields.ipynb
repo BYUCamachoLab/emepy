{
 "cells": [
  {
   "cell_type": "markdown",
   "metadata": {},
   "source": [
    "# EMEPy Mode Serialization"
   ]
  },
  {
   "cell_type": "code",
   "execution_count": null,
   "metadata": {},
   "outputs": [],
   "source": [
    "from emepy.fd import MSEMpy\n",
    "from emepy.fd import MSPickle\n",
    "from matplotlib import pyplot as plt\n",
    "import pickle as pk\n",
    "\n",
    "modesolver = MSEMpy(wl=1.55e-6, width=0.5e-6, thickness=0.22e-6, mesh=128)\n",
    "modesolver.solve()\n",
    "mode = modesolver.get_mode()\n",
    "pk.dump(mode, open(\"./example_file.pk\", \"wb+\"))\n",
    "\n",
    "# Separate instance\n",
    "\n",
    "modesolver = MSPickle(filename=\"./example_file.pk\", width=0.5e-6, thickness=0.22e-6)\n",
    "\n",
    "modesolver.solve()\n",
    "mode = modesolver.get_mode()\n",
    "\n",
    "plt.figure()\n",
    "mode.plot(value_type=\"Imaginary\")\n",
    "plt.show()\n"
   ]
  }
 ],
 "metadata": {
  "kernelspec": {
   "display_name": "Python 3 (ipykernel)",
   "language": "python",
   "name": "python3"
  },
  "language_info": {
   "codemirror_mode": {
    "name": "ipython",
    "version": 3
   },
   "file_extension": ".py",
   "mimetype": "text/x-python",
   "name": "python",
   "nbconvert_exporter": "python",
   "pygments_lexer": "ipython3",
   "version": "3.9.7"
  }
 },
 "nbformat": 4,
 "nbformat_minor": 4
}

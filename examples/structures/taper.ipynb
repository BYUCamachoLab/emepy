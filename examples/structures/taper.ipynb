{
 "cells": [
  {
   "cell_type": "markdown",
   "metadata": {},
   "source": [
    "# EMEPy Taper Example\n",
    "\n",
    "This tutorial demonstrates how to design, simulate, and visualize a simple taper in EMEPy using the electromagnetic python module as a modesolver. This allows us to extend our simulation to multiple modes. A single mode taper is benchmarked and can be found in the benchmarks directory.\n",
    "\n",
    "Begin by importing the necessary modules and defining our simulation parameters."
   ]
  },
  {
   "cell_type": "code",
   "execution_count": null,
   "metadata": {},
   "outputs": [],
   "source": [
    "import emepy\n",
    "from emepy.eme import Layer, EME\n",
    "from emepy.mode import Mode\n",
    "from emepy.fd import MSEMpy\n",
    "import numpy as np\n",
    "from matplotlib import pyplot as plt\n",
    "\n",
    "# Geometric parameters\n",
    "width1 = 0.7e-6  # Width of left waveguide\n",
    "thickness1 = 0.22e-6  # Thickness of left waveguide\n",
    "width2 = 0.3e-6  # Width of right waveguide\n",
    "thickness2 = 0.22e-6  # Thickness of right waveguide\n",
    "wavelength = 1.55e-6  # Wavelength of light (m)\n",
    "length = 5e-6  # Length of the waveguides\n",
    "taper_length = 0.75e-6  # The length of the taper\n",
    "num_modes = 2 # Number of modes to solve for\n",
    "taper_density = 7 # Number of taper segments\n",
    "mesh=128 # Number of mesh points in each xy dimension\n",
    "\n",
    "wg_length = 0.5 * (length - taper_length)  # Length of each division in the taper"
   ]
  },
  {
   "cell_type": "markdown",
   "metadata": {},
   "source": [
    "### Create a simulation object"
   ]
  },
  {
   "cell_type": "code",
   "execution_count": null,
   "metadata": {},
   "outputs": [],
   "source": [
    "eme = EME()  # Choose either a normal eme or a periodic eme (PeriodicEME())"
   ]
  },
  {
   "cell_type": "markdown",
   "metadata": {},
   "source": [
    "### Now create the parameters for a single taper\n",
    "\n",
    "We need one input waveguide modesolver and layer, one output, and a number in taper segments as previously defined."
   ]
  },
  {
   "cell_type": "code",
   "execution_count": null,
   "metadata": {},
   "outputs": [],
   "source": [
    "# first layer is a straight waveguide\n",
    "mode1 = MSEMpy(\n",
    "    wavelength,\n",
    "    width1,\n",
    "    thickness1,\n",
    "    num_modes=num_modes,\n",
    "    mesh=mesh\n",
    ")\n",
    "straight1 = Layer(mode1, num_modes, wavelength, wg_length)\n",
    "eme.add_layer(straight1)\n",
    "\n",
    "# create the discrete taper with a fine enough taper density to approximate a continuous linear taper\n",
    "widths = np.linspace(width1, width2, taper_density)\n",
    "thicknesses = np.linspace(thickness1, thickness2, taper_density)\n",
    "taper_length_per = taper_length / taper_density if taper_density else None\n",
    "\n",
    "# add the taper layers\n",
    "for i in range(taper_density):\n",
    "    solver = MSEMpy(wavelength, widths[i], thicknesses[i], num_modes=num_modes, mesh=mesh)\n",
    "    taper_layer = Layer(solver, num_modes, wavelength, taper_length_per)\n",
    "    eme.add_layer(taper_layer)\n",
    "\n",
    "# last layer is a straight waveguide of smaller geometry\n",
    "mode2 = MSEMpy(wavelength, width2, thickness2, num_modes=num_modes, mesh=mesh)\n",
    "straight2 = Layer(mode2, num_modes, wavelength, wg_length)\n",
    "eme.add_layer(straight2)"
   ]
  },
  {
   "cell_type": "markdown",
   "metadata": {},
   "source": [
    "### Create our monitor"
   ]
  },
  {
   "cell_type": "code",
   "execution_count": null,
   "metadata": {},
   "outputs": [],
   "source": [
    "monitor = eme.add_monitor(axes=\"xz\")"
   ]
  },
  {
   "cell_type": "markdown",
   "metadata": {},
   "source": [
    "### Run the simulation"
   ]
  },
  {
   "cell_type": "code",
   "execution_count": null,
   "metadata": {},
   "outputs": [],
   "source": [
    "eme.propagate(input_array=np.array([1,0,0,0]))  # Run the eme"
   ]
  },
  {
   "cell_type": "markdown",
   "metadata": {},
   "source": [
    "### Visualize the taper and the fields"
   ]
  },
  {
   "cell_type": "code",
   "execution_count": null,
   "metadata": {},
   "outputs": [],
   "source": [
    "plt.figure()\n",
    "monitor.visualize(component=\"n\")\n",
    "plt.colorbar()\n",
    "plt.show()\n",
    "\n",
    "plt.figure()\n",
    "monitor.visualize(component=\"Hy\")\n",
    "plt.colorbar()\n",
    "plt.show()"
   ]
  }
 ],
 "metadata": {
  "kernelspec": {
   "display_name": "Python 3 (ipykernel)",
   "language": "python",
   "name": "python3"
  },
  "language_info": {
   "codemirror_mode": {
    "name": "ipython",
    "version": 3
   },
   "file_extension": ".py",
   "mimetype": "text/x-python",
   "name": "python",
   "nbconvert_exporter": "python",
   "pygments_lexer": "ipython3",
   "version": "3.7.10"
  }
 },
 "nbformat": 4,
 "nbformat_minor": 4
}

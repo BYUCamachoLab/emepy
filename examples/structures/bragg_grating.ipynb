{
 "cells": [
  {
   "cell_type": "markdown",
   "metadata": {},
   "source": [
    "# EMEPy Bragg Grating\n",
    "\n",
    "This example is currently in progress. See the benchmarks directory for a detailed guide on bragg gratings in EMEPy. In the future, this notebook will demonstrate how to simulate and visualize field profiles as they propagate through the device. \n",
    "\n",
    "Start by importing the necessary modules and defining the device parameters."
   ]
  },
  {
   "cell_type": "code",
   "execution_count": 1,
   "metadata": {},
   "outputs": [],
   "source": [
    "from emepy.ann import ANN, MSNeuralNetwork\n",
    "from emepy.eme import Layer, EME\n",
    "import numpy as np\n",
    "from matplotlib import pyplot as plt\n",
    "\n",
    "num_periods = 1  # Number of Periods for Bragg Grating\n",
    "length = .159e-6 # Length of each segment of BG, Period = Length * 2\n",
    "wavelength = 1.55e-6 # Wavelength\n",
    "num_modes = 1  # Number of Modes\n",
    "mesh = 128 # Number of mesh points\n",
    "width1 = 0.46e-6 # Width of first core block\n",
    "width2 = 0.54e-6 # Width of second core block \n",
    "thickness = 0.22e-6 # Thicnkess of the core\n",
    "modesolver = MSNeuralNetwork # Which modesolver to use"
   ]
  },
  {
   "cell_type": "markdown",
   "metadata": {},
   "source": [
    "### Define the simulation"
   ]
  },
  {
   "cell_type": "code",
   "execution_count": 2,
   "metadata": {},
   "outputs": [
    {
     "name": "stderr",
     "output_type": "stream",
     "text": [
      "/Users/ianhammond/miniconda3/lib/python3.7/site-packages/sklearn/base.py:338: UserWarning: Trying to unpickle estimator LinearRegression from version 0.24.2 when using version 1.0.2. This might lead to breaking code or invalid results. Use at your own risk. For more info please refer to:\n",
      "https://scikit-learn.org/stable/modules/model_persistence.html#security-maintainability-limitations\n",
      "  UserWarning,\n"
     ]
    }
   ],
   "source": [
    "eme = EME(num_periods=num_periods)\n",
    "ann = ANN()"
   ]
  },
  {
   "cell_type": "markdown",
   "metadata": {},
   "source": [
    "### Create the device"
   ]
  },
  {
   "cell_type": "code",
   "execution_count": 3,
   "metadata": {},
   "outputs": [],
   "source": [
    "mode_solver1 = modesolver(\n",
    "    ann,\n",
    "    wavelength,\n",
    "    width1,\n",
    "    thickness,\n",
    ")  # First half of bragg grating\n",
    "\n",
    "mode_solver2 = modesolver(\n",
    "    ann,\n",
    "    wavelength,\n",
    "    width2,\n",
    "    thickness,\n",
    ")  # Second half of bragg grating\n",
    "\n",
    "eme.add_layer(Layer(mode_solver1, num_modes, wavelength, length))  # First half of bragg grating\n",
    "eme.add_layer(Layer(mode_solver2, num_modes, wavelength, length))  # Second half of bragg grating"
   ]
  },
  {
   "cell_type": "markdown",
   "metadata": {},
   "source": [
    "### Create a monitor"
   ]
  },
  {
   "cell_type": "code",
   "execution_count": 4,
   "metadata": {},
   "outputs": [],
   "source": [
    "monitor = eme.add_monitor(axes=\"xz\")"
   ]
  },
  {
   "cell_type": "markdown",
   "metadata": {},
   "source": [
    "### Run the simulation"
   ]
  },
  {
   "cell_type": "code",
   "execution_count": 5,
   "metadata": {},
   "outputs": [],
   "source": [
    "eme.propagate()  # propagate at given wavelength"
   ]
  },
  {
   "cell_type": "markdown",
   "metadata": {},
   "source": [
    "### Visualize monitor"
   ]
  },
  {
   "cell_type": "code",
   "execution_count": 6,
   "metadata": {},
   "outputs": [
    {
     "data": {
      "image/png": "[encoded data removed]",
      "text/plain": [
       "<Figure size 432x288 with 2 Axes>"
      ]
     },
     "metadata": {
      "needs_background": "light"
     },
     "output_type": "display_data"
    },
    {
     "data": {
      "image/png": "[encoded data removed]",
      "text/plain": [
       "<Figure size 432x288 with 2 Axes>"
      ]
     },
     "metadata": {
      "needs_background": "light"
     },
     "output_type": "display_data"
    }
   ],
   "source": [
    "plt.figure()\n",
    "monitor.visualize(component=\"n\")\n",
    "plt.colorbar()\n",
    "plt.show()\n",
    "\n",
    "plt.figure()\n",
    "monitor.visualize(component=\"Hy\")\n",
    "plt.colorbar()\n",
    "plt.show()"
   ]
  }
 ],
 "metadata": {
  "kernelspec": {
   "display_name": "Python 3",
   "language": "python",
   "name": "python3"
  },
  "language_info": {
   "codemirror_mode": {
    "name": "ipython",
    "version": 3
   },
   "file_extension": ".py",
   "mimetype": "text/x-python",
   "name": "python",
   "nbconvert_exporter": "python",
   "pygments_lexer": "ipython3",
   "version": "3.7.10"
  },
  "orig_nbformat": 4
 },
 "nbformat": 4,
 "nbformat_minor": 2
}

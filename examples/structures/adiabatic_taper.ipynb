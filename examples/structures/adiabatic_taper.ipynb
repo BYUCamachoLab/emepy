{
 "cells": [
  {
   "cell_type": "code",
   "execution_count": 1,
   "metadata": {},
   "outputs": [
    {
     "name": "stderr",
     "output_type": "stream",
     "text": [
      "100%|██████████| 75/75 [00:00<00:00, 3196.62it/s]\n"
     ]
    },
    {
     "data": {
      "image/png": "[encoded data removed]",
      "text/plain": [
       "<Figure size 432x288 with 1 Axes>"
      ]
     },
     "metadata": {
      "needs_background": "light"
     },
     "output_type": "display_data"
    },
    {
     "name": "stderr",
     "output_type": "stream",
     "text": [
      "100%|██████████| 75/75 [57:11<00:00, 45.76s/it]\n"
     ]
    },
    {
     "data": {
      "image/png": "[encoded data removed]",
      "text/plain": [
       "<Figure size 432x288 with 2 Axes>"
      ]
     },
     "metadata": {
      "needs_background": "light"
     },
     "output_type": "display_data"
    }
   ],
   "source": [
    "import emepy\n",
    "from emepy.eme import Layer, EME\n",
    "from emepy.mode import Mode\n",
    "from emepy.fd import MSEMpy\n",
    "import numpy as np\n",
    "from matplotlib import pyplot as plt\n",
    "\n",
    "# Design parameters\n",
    "taper_length = 7e-6  # The length of the taper\n",
    "taper_density = 75 # Number of taper segments\n",
    "alpha = 3 # Strength of function (either tanh or bezier) -> 0 = linear\n",
    "type_tanh = True # \"bezier\"\n",
    "\n",
    "def taper_func(start, end, num_points):\n",
    "\n",
    "    # Linear Curve\n",
    "    x = np.linspace(width1, width2, taper_density)\n",
    "\n",
    "    # Tanh Curve\n",
    "    if type_tanh:\n",
    "        xt = x - np.min(x)\n",
    "        xta = xt / np.max(xt)\n",
    "        tanh = np.tanh(alpha*(xta-0.5))+1\n",
    "        tanh -= np.min(tanh)\n",
    "        tanh *= np.max(xt) / np.max(tanh)\n",
    "        tanh += np.min(x)\n",
    "        return tanh\n",
    "    # Bezier Curve\n",
    "    else:\n",
    "        return None\n",
    "\n",
    "# Geometric parameters\n",
    "width1 = 0.5e-6  # Width of left waveguide\n",
    "thickness1 = 0.22e-6  # Thickness of left waveguide\n",
    "width2 = 7e-6  # Width of right waveguide\n",
    "thickness2 = 0.22e-6  # Thickness of right waveguide\n",
    "wavelength = 1.55e-6  # Wavelength of light (m)\n",
    "length = 3e-6  # Length of the waveguides\n",
    "num_modes_first_half = 20 # Number of modes to solve for\n",
    "num_modes_second_half = 20 # Number of modes to solve for\n",
    "mesh=128 # Number of mesh points in each xy dimension\n",
    "\n",
    "eme = EME()  # Choose either a normal eme or a periodic eme (PeriodicEME())\n",
    "\n",
    "# first layer is a straight waveguide\n",
    "mode1 = MSEMpy(\n",
    "    wavelength,\n",
    "    width1,\n",
    "    thickness1,\n",
    "    num_modes=num_modes_first_half,\n",
    "    cladding_width=10e-6,\n",
    "    cladding_thickness=10e-6,\n",
    "    mesh=mesh\n",
    ")\n",
    "straight1 = Layer(mode1, num_modes_first_half, wavelength, length)\n",
    "eme.add_layer(straight1)\n",
    "\n",
    "# create the discrete taper with a fine enough taper density to approximate a continuous linear taper\n",
    "widths = taper_func(width1, width2, taper_density)\n",
    "thicknesses = np.linspace(thickness1, thickness2, taper_density)\n",
    "taper_length_per = taper_length / taper_density\n",
    "\n",
    "# add the taper layers\n",
    "for i in range(taper_density):\n",
    "    num_modes = num_modes_first_half if i < taper_density / 2.0 else num_modes_second_half\n",
    "    solver = MSEMpy(wavelength, widths[i], thicknesses[i], num_modes=num_modes, mesh=mesh,cladding_width=10e-6,cladding_thickness=10e-6,)\n",
    "    taper_layer = Layer(solver, num_modes, wavelength, taper_length_per)\n",
    "    eme.add_layer(taper_layer)\n",
    "\n",
    "# last layer is a straight waveguide of smaller geometry\n",
    "mode2 = MSEMpy(wavelength, width2, thickness2, num_modes=num_modes_second_half, mesh=mesh,cladding_width=10e-6,cladding_thickness=10e-6,)\n",
    "straight2 = Layer(mode2, num_modes_second_half, wavelength, length)\n",
    "eme.add_layer(straight2)\n",
    "\n",
    "eme.layers = eme.layers\n",
    "\n",
    "monitor = eme.add_monitor(axes=\"xz\")\n",
    "\n",
    "eme.draw() \n",
    "plt.show()\n",
    "\n",
    "eme.propagate()  # Run the eme\n",
    "\n",
    "plt.figure()\n",
    "monitor.visualize(component=\"Hy\")\n",
    "plt.colorbar()\n",
    "plt.show()"
   ]
  },
  {
   "cell_type": "code",
   "execution_count": null,
   "metadata": {},
   "outputs": [],
   "source": []
  }
 ],
 "metadata": {
  "interpreter": {
   "hash": "aa226bc58bd195c0f8ae0485b0e1538e6acdb6f27558a00ae73fff31b6d3f2c0"
  },
  "kernelspec": {
   "display_name": "Python 3.8.5 64-bit ('base': conda)",
   "language": "python",
   "name": "python3"
  },
  "language_info": {
   "codemirror_mode": {
    "name": "ipython",
    "version": 3
   },
   "file_extension": ".py",
   "mimetype": "text/x-python",
   "name": "python",
   "nbconvert_exporter": "python",
   "pygments_lexer": "ipython3",
   "version": "3.8.5"
  },
  "orig_nbformat": 4
 },
 "nbformat": 4,
 "nbformat_minor": 2
}

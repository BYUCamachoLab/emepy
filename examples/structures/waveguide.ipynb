{
 "cells": [
  {
   "cell_type": "markdown",
   "metadata": {},
   "source": [
    "# Basic Waveguide EME\n",
    "\n",
    "This tutorial utilizes EMEPy's new feature, the profile monitor, to visualize the field profile in a single mode waveguide as it propagates.\n",
    "\n",
    "Start by importing the necessary classes and defining the waveguide parameters."
   ]
  },
  {
   "cell_type": "code",
   "execution_count": null,
   "metadata": {},
   "outputs": [],
   "source": [
    "from emepy.eme import EME, Layer\n",
    "from emepy.monitors import Monitor\n",
    "from emepy.ann import ANN, MSNeuralNetwork\n",
    "import numpy as np\n",
    "from matplotlib import pyplot as plt\n",
    "\n",
    "wavelength = 1.55\n",
    "width = 0.5\n",
    "thickness = 0.22\n",
    "num_modes = 1\n",
    "length = wavelength"
   ]
  },
  {
   "cell_type": "markdown",
   "metadata": {},
   "source": [
    "### Setup waveguide and EME"
   ]
  },
  {
   "cell_type": "code",
   "execution_count": null,
   "metadata": {},
   "outputs": [],
   "source": [
    "eme = EME()\n",
    "ann = ANN()\n",
    "\n",
    "mode_solvers = [\n",
    "    MSNeuralNetwork(\n",
    "        ann,\n",
    "        wavelength * 1e-6,\n",
    "        width * 1e-6,\n",
    "        thickness * 1e-6,\n",
    "    )  for i in range(5)\n",
    "]\n",
    "\n",
    "for i in range(5):\n",
    "    eme.add_layer(Layer(mode_solvers[i], num_modes, wavelength * 1e-6, length * 1e-6))"
   ]
  },
  {
   "cell_type": "markdown",
   "metadata": {},
   "source": [
    "### Setup monitor and Propagate\n",
    "\n",
    "We setup two monitors: one in the xz plane and one in the yz plane. Both will store all the field and index profiles for us."
   ]
  },
  {
   "cell_type": "code",
   "execution_count": null,
   "metadata": {},
   "outputs": [],
   "source": [
    "monitor_xz = eme.add_monitor(axes=\"xz\")\n",
    "monitor_yz = eme.add_monitor(axes=\"yz\")\n",
    "eme.propagate() "
   ]
  },
  {
   "cell_type": "markdown",
   "metadata": {},
   "source": [
    "### Propagate and Visualize"
   ]
  },
  {
   "cell_type": "code",
   "execution_count": null,
   "metadata": {},
   "outputs": [],
   "source": [
    "components = ['n','E','H','Ex','Ey','Ez','Hx','Hy','Hz']\n",
    "fig, axs = plt.subplots(3,3)\n",
    "for row in range(3):\n",
    "    for col in range(3):\n",
    "        monitor_xz.visualize(axs[row,col], components[row*3+col])\n",
    "fig.tight_layout()\n",
    "plt.show()\n",
    "\n",
    "components = ['n','E','H','Ex','Ey','Ez','Hx','Hy','Hz']\n",
    "fig, axs = plt.subplots(3,3)\n",
    "for row in range(3):\n",
    "    for col in range(3):\n",
    "        monitor_yz.visualize(axs[row,col], components[row*3+col])\n",
    "fig.tight_layout()\n",
    "plt.show()"
   ]
  }
 ],
 "metadata": {
  "kernelspec": {
   "display_name": "Python 3 (ipykernel)",
   "language": "python",
   "name": "python3"
  },
  "language_info": {
   "codemirror_mode": {
    "name": "ipython",
    "version": 3
   },
   "file_extension": ".py",
   "mimetype": "text/x-python",
   "name": "python",
   "nbconvert_exporter": "python",
   "pygments_lexer": "ipython3",
   "version": "3.7.10"
  }
 },
 "nbformat": 4,
 "nbformat_minor": 4
}
